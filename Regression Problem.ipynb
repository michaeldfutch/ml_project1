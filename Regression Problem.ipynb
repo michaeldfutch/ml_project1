{
 "cells": [
  {
   "cell_type": "code",
   "execution_count": 1,
   "id": "364b740a",
   "metadata": {},
   "outputs": [],
   "source": [
    "import pandas as pd\n",
    "import numpy as np\n",
    "import os\n",
    "import googlemaps\n",
    "from datetime import datetime\n",
    "from sklearn.model_selection import train_test_split, cross_val_score\n",
    "from sklearn.metrics import mean_squared_error, r2_score\n",
    "import pickle\n",
    "import matplotlib.pyplot as plt\n",
    "GOOGLE_API_KEY=os.environ['GOOGLE_API_KEY']\n"
   ]
  },
  {
   "cell_type": "markdown",
   "id": "3ef07d4c",
   "metadata": {},
   "source": [
    "## Import Data\n",
    "- Read in housing data\n",
    "- Geocode addresses using google maps api (https://github.com/googlemaps/google-maps-services-python)\n",
    "- Split into train/test sets that all algorithms will use"
   ]
  },
  {
   "cell_type": "code",
   "execution_count": 2,
   "id": "d1973540",
   "metadata": {},
   "outputs": [],
   "source": [
    "PATH = '/Users/michaelfutch/gtu/ml/project1/'\n",
    "FILE = PATH + 'data/data.csv'\n",
    "rebuild = False # set to True if rebuilding dataset (cost $ to geocode)"
   ]
  },
  {
   "cell_type": "code",
   "execution_count": 3,
   "id": "a358fd35",
   "metadata": {},
   "outputs": [],
   "source": [
    "# data at: https://www.kaggle.com/datasets/harlfoxem/housesalesprediction\n",
    "\n",
    "if rebuild:\n",
    "    # read data\n",
    "    dat = pd.read_csv(FILE)\n",
    "    \n",
    "    # cleaning steps\n",
    "    dat['address'] = dat[['street','city','statezip']].agg(' '.join, axis=1) \n",
    "    dat['date'] = pd.to_datetime(dat['date'])\n",
    "    dat['day'] = ((dat['date'] - dat['date'].min()) / np.timedelta64(1,'D')).astype(int)\n",
    "\n",
    "    # get lat/lon from google maps api\n",
    "    gmaps = googlemaps.Client(key=GOOGLE_API_KEY)\n",
    "    addresses = list(dat['address'])\n",
    "    lat_lon = np.empty((len(addresses),2))\n",
    "    neighborhood = []\n",
    "    ct = 0\n",
    "    for address in addresses:\n",
    "        geocode_result = gmaps.geocode(address)\n",
    "        lat_lon[ct] = np.array([[geocode_result[0]['geometry']['location']['lat'],geocode_result[0]['geometry']['location']['lng']]])\n",
    "        ct += 1\n",
    "        \n",
    "        \n",
    "    X_full = dat[['day', 'bedrooms', 'bathrooms', 'sqft_living', 'sqft_lot',\n",
    "           'floors', 'waterfront', 'view', 'condition', 'sqft_above',\n",
    "           'sqft_basement', 'yr_built', 'yr_renovated']].to_numpy()\n",
    "    X_full = np.append(X_full, lat_lon, axis=1)\n",
    "    y_full = np.array(dat.price)\n",
    "\n",
    "    \n",
    "\n",
    "    # split data\n",
    "    X, X_val, y, y_val = train_test_split(X_full, y_full, test_size = 0.33, random_state = 2072020)\n",
    "    \n",
    "    # save data to avoid re-geocoding\n",
    "    with open('./data/pickled', 'wb') as f:\n",
    "        pickle.dump((X, X_val, y, y_val, dat, lat_lon), file=f)\n",
    "\n",
    "else:\n",
    "    # load saved data if not rebuilding\n",
    "    with open('./data/pickled', 'rb') as f:\n",
    "        X, X_val, y, y_val, dat, lat_lon = pickle.load(f)\n",
    "        \n",
    "        \n",
    "        ## Trim extreme tails\n",
    "        pct2, pct98 = np.percentile(y,[2,98])\n",
    "        X = X[(y >= pct2) & (y <= pct98)]\n",
    "        y = y[(y >= pct2) & (y <= pct98)]\n",
    "        X_val = X_val[(y_val >= pct2) & (y_val <= pct98)]\n",
    "        y_val = y_val[(y_val >= pct2) & (y_val <= pct98)]"
   ]
  },
  {
   "cell_type": "markdown",
   "id": "af6c1094",
   "metadata": {},
   "source": [
    "### Description of datasets after split\n",
    "- X_full,y_full = full dataset of covariates and prices\n",
    "- X_val, y_val = holdout for comparison across all algorithms\n",
    "- X,y = dataset for training for each algo, may be split again\n"
   ]
  },
  {
   "cell_type": "code",
   "execution_count": 57,
   "id": "a7b59bfb",
   "metadata": {},
   "outputs": [
    {
     "name": "stdout",
     "output_type": "stream",
     "text": [
      "(397, 15)\n",
      "(793, 15)\n",
      "(1189, 15)\n",
      "(1585, 15)\n",
      "(1981, 15)\n"
     ]
    },
    {
     "data": {
      "text/plain": [
       "(1981, 15)"
      ]
     },
     "execution_count": 57,
     "metadata": {},
     "output_type": "execute_result"
    }
   ],
   "source": [
    "\n",
    "n_splits = 5\n",
    "n = X_train.shape[0] // n_splits\n",
    "ind = [i*n for i in range(5)]\n",
    "ind.reverse()\n",
    "for i in range(n_splits):\n",
    "    ix = [j >= ind[i] for j in range(X_train.shape[0])]\n",
    "    X_train_i = X_train[ix]\n",
    "    y_train_i = y_train[ix]\n",
    "    clf = tree.DecisionTreeRegressor(random_state=0)\n",
    "    clf.fit(X_train_i, y_train)\n",
    "    pred_y_test = clf.predict(y_train)\n",
    "    \n",
    "    metric = r2_score(y_test, pred_y_test)\n",
    "    \n",
    "    \n"
   ]
  },
  {
   "cell_type": "code",
   "execution_count": null,
   "id": "a3bfcdc0",
   "metadata": {},
   "outputs": [],
   "source": [
    "def learning_curve_data(clf, splits=10):\n",
    "    dims = X_train.shape[0] // 10\n",
    "    "
   ]
  },
  {
   "cell_type": "markdown",
   "id": "a8871f16",
   "metadata": {},
   "source": [
    "## Decision Trees\n",
    "- Sklearn uses CART"
   ]
  },
  {
   "cell_type": "code",
   "execution_count": 44,
   "id": "2e6f7d2e",
   "metadata": {},
   "outputs": [],
   "source": [
    "from sklearn import tree\n",
    "dt_results = {}\n",
    "\n",
    "X_train, X_test, y_train, y_test = train_test_split(X, y, test_size = 0.33, random_state = 2072020)"
   ]
  },
  {
   "cell_type": "code",
   "execution_count": 61,
   "id": "40714a85",
   "metadata": {},
   "outputs": [],
   "source": [
    "def plot_learning(val = 'roc_auc', x = 'max depth'):\n",
    "    D = eval(val)\n",
    "    depths = sorted(D.keys())\n",
    "    train_scores = [value[0] for key, value in D.items()]\n",
    "    test_scores = [value[1] for key, value in D.items()]\n",
    "    \n",
    "    \n",
    "    fig, ax = plt.subplots()\n",
    "    ax.set_xlabel(x)\n",
    "    ax.set_ylabel(val)\n",
    "    ax.set_title(val + \" vs \" + x + \" for training and testing sets\")\n",
    "    ax.plot(depths, train_scores, marker=\"o\", label=\"train\", drawstyle=\"steps-post\")\n",
    "    ax.plot(depths, test_scores, marker=\"o\", label=\"test\", drawstyle=\"steps-post\")\n",
    "    ax.legend()\n",
    "    return plt"
   ]
  },
  {
   "cell_type": "markdown",
   "id": "4db16723",
   "metadata": {},
   "source": [
    "### Run CART without cross-validation or any protection for overfitting"
   ]
  },
  {
   "cell_type": "code",
   "execution_count": 59,
   "id": "629bc6f1",
   "metadata": {},
   "outputs": [
    {
     "name": "stdout",
     "output_type": "stream",
     "text": [
      "Node count: 3855\n",
      "Depth: 23\n",
      "Training RMSE, Validation RMSE:\n"
     ]
    },
    {
     "data": {
      "text/plain": [
       "(1.0, 0.5856446974837193)"
      ]
     },
     "execution_count": 59,
     "metadata": {},
     "output_type": "execute_result"
    }
   ],
   "source": [
    "clf = tree.DecisionTreeRegressor(random_state=0)\n",
    "clf = clf.fit(X_train, y_train)\n",
    "pred_y = clf.predict(X_train)\n",
    "pred_y_test = clf.predict(X_test)\n",
    "print(\"Node count:\", clf.tree_.node_count)\n",
    "print(\"Depth:\", clf.get_depth())\n",
    "\n",
    "print(\"Training RMSE, Validation RMSE:\")\n",
    "r2_score(y_train, pred_y), r2_score(y_test, pred_y_test)\n"
   ]
  },
  {
   "cell_type": "markdown",
   "id": "a71c2525",
   "metadata": {},
   "source": [
    "#### CART without restrictions massively overfit the data. The root MSE is zero indicating perfect fit on the training data, but much higher on the validation data not seen by the algorithm - a clear indication of overfitting. The visualization shows a very complicated tree structure."
   ]
  },
  {
   "cell_type": "markdown",
   "id": "af38438e",
   "metadata": {},
   "source": [
    "#### Builds a very deep tree that perfectly predicts the training data but does poorly on data it hasn't seen"
   ]
  },
  {
   "cell_type": "code",
   "execution_count": 569,
   "id": "15492961",
   "metadata": {},
   "outputs": [
    {
     "data": {
      "text/plain": [
       "'CART_unrestricted.pdf'"
      ]
     },
     "execution_count": 569,
     "metadata": {},
     "output_type": "execute_result"
    }
   ],
   "source": [
    "import graphviz\n",
    "clf_data = tree.export_graphviz(clf, out_file=None) \n",
    "graph = graphviz.Source(clf_data) \n",
    "graph.render(\"CART_unrestricted\") "
   ]
  },
  {
   "cell_type": "markdown",
   "id": "6b792f1b",
   "metadata": {},
   "source": [
    "#### Add restriction that each terminal node must have at least 2 cases"
   ]
  },
  {
   "cell_type": "code",
   "execution_count": 570,
   "id": "00cf531e",
   "metadata": {},
   "outputs": [
    {
     "name": "stdout",
     "output_type": "stream",
     "text": [
      "Node count: 1697\n",
      "Training RMSE, Validation RMSE, R2 train, R2 test:\n"
     ]
    },
    {
     "data": {
      "text/plain": [
       "(39633.585480146045, 163742.5677737972, 0.975920410729231, 0.6033867489648765)"
      ]
     },
     "execution_count": 570,
     "metadata": {},
     "output_type": "execute_result"
    }
   ],
   "source": [
    "clf = tree.DecisionTreeRegressor(random_state=0, min_samples_leaf=2)\n",
    "clf = clf.fit(X_train, y_train)\n",
    "pred_y = clf.predict(X_train)\n",
    "pred_y_test = clf.predict(X_test)\n",
    "print(\"Node count:\", clf.tree_.node_count)\n",
    "print(\"Training RMSE, Validation RMSE, R2 train, R2 test:\")\n",
    "mean_squared_error(y_train, pred_y, squared = False), mean_squared_error(y_test, pred_y_test, squared = False), clf.score(X_train, y_train), clf.score(X_test, y_test)"
   ]
  },
  {
   "cell_type": "code",
   "execution_count": 118,
   "id": "28edacdb",
   "metadata": {},
   "outputs": [
    {
     "data": {
      "text/plain": [
       "'CART_min_leaf2.pdf'"
      ]
     },
     "execution_count": 118,
     "metadata": {},
     "output_type": "execute_result"
    }
   ],
   "source": [
    "clf_data = tree.export_graphviz(clf, out_file=None) \n",
    "graph = graphviz.Source(clf_data) \n",
    "graph.render(\"CART_min_leaf2\") "
   ]
  },
  {
   "cell_type": "markdown",
   "id": "2bdb6bb4",
   "metadata": {},
   "source": [
    "#### More balanced train/validation error, but still overfitting the data\n"
   ]
  },
  {
   "cell_type": "markdown",
   "id": "2e2e7d0d",
   "metadata": {},
   "source": [
    "#### Post-pruning with min cost complexity\n",
    "https://scikit-learn.org/stable/auto_examples/tree/plot_cost_complexity_pruning.html"
   ]
  },
  {
   "cell_type": "code",
   "execution_count": 571,
   "id": "1915aa0e",
   "metadata": {
    "scrolled": false
   },
   "outputs": [
    {
     "data": {
      "text/plain": [
       "Text(0.5, 1.0, 'Total Impurity vs effective alpha for training set')"
      ]
     },
     "execution_count": 571,
     "metadata": {},
     "output_type": "execute_result"
    },
    {
     "data": {
      "image/png": "[encoded data removed]",
      "text/plain": [
       "<Figure size 432x288 with 1 Axes>"
      ]
     },
     "metadata": {
      "needs_background": "light"
     },
     "output_type": "display_data"
    }
   ],
   "source": [
    "path = clf.cost_complexity_pruning_path(X_train, y_train)\n",
    "ccp_alphas, impurities = path.ccp_alphas, path.impurities\n",
    "fig, ax = plt.subplots()\n",
    "ax.plot(ccp_alphas[:-1], impurities[:-1], marker=\"o\", drawstyle=\"steps-post\")\n",
    "ax.set_xlabel(\"effective alpha\")\n",
    "ax.set_ylabel(\"total impurity of leaves\")\n",
    "ax.set_title(\"Total Impurity vs effective alpha for training set\")"
   ]
  },
  {
   "cell_type": "code",
   "execution_count": 572,
   "id": "f5a35751",
   "metadata": {},
   "outputs": [
    {
     "name": "stdout",
     "output_type": "stream",
     "text": [
      "Training RMSE, Validation RMSE, R2 train, R2 test:\n"
     ]
    },
    {
     "data": {
      "text/plain": [
       "(39633.585480146045,\n",
       " 163742.5677737972,\n",
       " 1.1102230246251565e-16,\n",
       " -0.001709901094136601)"
      ]
     },
     "execution_count": 572,
     "metadata": {},
     "output_type": "execute_result"
    }
   ],
   "source": [
    "\n",
    "clfs = []\n",
    "\n",
    "for ccp_alpha in ccp_alphas:\n",
    "    clf = tree.DecisionTreeRegressor(random_state=0, ccp_alpha=ccp_alpha, min_samples_leaf=2)\n",
    "    clf.fit(X_train, y_train)\n",
    "    clfs.append(clf)\n",
    "\n",
    "print(\"Training RMSE, Validation RMSE, R2 train, R2 test:\")\n",
    "mean_squared_error(y_train, pred_y, squared = False), mean_squared_error(y_test, pred_y_test, squared = False), clf.score(X_train, y_train), clf.score(X_test, y_test)"
   ]
  },
  {
   "cell_type": "code",
   "execution_count": 573,
   "id": "a26f498f",
   "metadata": {},
   "outputs": [
    {
     "data": {
      "image/png": "[encoded data removed]",
      "text/plain": [
       "<Figure size 432x288 with 1 Axes>"
      ]
     },
     "metadata": {
      "needs_background": "light"
     },
     "output_type": "display_data"
    }
   ],
   "source": [
    "train_scores = [clf.score(X_train, y_train) for clf in clfs]\n",
    "test_scores = [clf.score(X_test, y_test) for clf in clfs]\n",
    "\n",
    "fig, ax = plt.subplots()\n",
    "ax.set_xlabel(\"alpha\")\n",
    "ax.set_ylabel(\"accuracy\")\n",
    "ax.set_title(\"Accuracy vs alpha for training and testing sets\")\n",
    "ax.plot(ccp_alphas, train_scores, marker=\"o\", label=\"train\", drawstyle=\"steps-post\")\n",
    "ax.plot(ccp_alphas, test_scores, marker=\"o\", label=\"test\", drawstyle=\"steps-post\")\n",
    "ax.legend()\n",
    "plt.show()"
   ]
  },
  {
   "cell_type": "code",
   "execution_count": 79,
   "id": "ae2cb1c8",
   "metadata": {},
   "outputs": [
    {
     "data": {
      "text/plain": [
       "{1: (0.3175724313182079, 0.2971739428972825),\n",
       " 2: (0.5100104108863177, 0.49438226424947296),\n",
       " 3: (0.5927347927720196, 0.5671668372436309),\n",
       " 4: (0.656277344259529, 0.5898437592494803),\n",
       " 5: (0.7188576997894259, 0.6195075509675492),\n",
       " 6: (0.7653162315487809, 0.6693921769113867),\n",
       " 7: (0.8076158428105044, 0.6612153193572832),\n",
       " 8: (0.8547082076973374, 0.6673171867117985),\n",
       " 9: (0.899375135965792, 0.6485097844509627),\n",
       " 10: (0.9335551177535404, 0.6387080578535429),\n",
       " 11: (0.957514907969795, 0.6162490333017194),\n",
       " 12: (0.9748103523026237, 0.6151646612538855),\n",
       " 13: (0.9871304992976615, 0.5920957508319409),\n",
       " 14: (0.9936485508845315, 0.5939532553586435),\n",
       " 15: (0.9969686419108357, 0.5863701462416051),\n",
       " 16: (0.9988739301073607, 0.5702817473180479),\n",
       " 17: (0.9995940744402291, 0.5909119238138515),\n",
       " 18: (0.9998599618261689, 0.5928281041571404),\n",
       " 19: (0.9999711600883558, 0.5758915362198772),\n",
       " 20: (0.9999956788769762, 0.5859650382888176),\n",
       " 21: (0.9999990933355627, 0.6118632840360215),\n",
       " 22: (0.9999999961309185, 0.5794481394644474)}"
      ]
     },
     "execution_count": 79,
     "metadata": {},
     "output_type": "execute_result"
    }
   ],
   "source": [
    "mins = list(range(1,23))\n",
    "r2 = {}\n",
    "for m in mins:\n",
    "    clf = tree.DecisionTreeRegressor(max_depth=m)\n",
    "    clf = clf.fit(X_train, y_train)\n",
    "    pred_y_train = clf.predict(X_train)\n",
    "    pred_y_test = clf.predict(X_test)\n",
    "    r2[m] = r2_score(y_train, pred_y_train), r2_score(y_test, pred_y_test) \n",
    "r2"
   ]
  },
  {
   "cell_type": "code",
   "execution_count": 80,
   "id": "9ecb7a53",
   "metadata": {},
   "outputs": [
    {
     "data": {
      "image/png": "[encoded data removed]",
      "text/plain": [
       "<Figure size 432x288 with 1 Axes>"
      ]
     },
     "metadata": {
      "needs_background": "light"
     },
     "output_type": "display_data"
    }
   ],
   "source": [
    "plt = plot_learning('r2',x='max depth')\n",
    "plt.savefig('./paper/figures/house_dt_learn_r2_depth.png', format='png', transparent=True)\n",
    "plt.show()\n"
   ]
  },
  {
   "cell_type": "code",
   "execution_count": 96,
   "id": "edb144e3",
   "metadata": {},
   "outputs": [
    {
     "data": {
      "image/png": "[encoded data removed]",
      "text/plain": [
       "<Figure size 432x288 with 1 Axes>"
      ]
     },
     "metadata": {
      "needs_background": "light"
     },
     "output_type": "display_data"
    }
   ],
   "source": [
    "mins = list(range(1,20))\n",
    "r2 = {}\n",
    "for m in mins:\n",
    "    clf = tree.DecisionTreeRegressor(min_samples_leaf=m)\n",
    "    clf = clf.fit(X_train, y_train)\n",
    "    pred_y_train = clf.predict(X_train)\n",
    "    pred_y_test = clf.predict(X_test)\n",
    "    r2[m] = r2_score(y_train, pred_y_train), r2_score(y_test, pred_y_test) \n",
    "plt = plot_learning('r2',x='min leaf')\n",
    "plt.savefig('./paper/figures/house_dt_learn_r2_leaf.png', format='png', transparent=True)\n",
    "plt.show()"
   ]
  },
  {
   "cell_type": "code",
   "execution_count": 129,
   "id": "1e185fab",
   "metadata": {},
   "outputs": [
    {
     "data": {
      "image/png": "[encoded data removed]",
      "text/plain": [
       "<Figure size 432x288 with 1 Axes>"
      ]
     },
     "metadata": {
      "needs_background": "light"
     },
     "output_type": "display_data"
    }
   ],
   "source": [
    "n_splits = 5\n",
    "n = X_train.shape[0] // n_splits\n",
    "ind = [i*n for i in range(5)]\n",
    "ind.reverse()\n",
    "r2 = {}\n",
    "for i in range(n_splits):\n",
    "    ix = [j >= ind[i] for j in range(X_train.shape[0])]\n",
    "    X_train_i = X_train[ix]\n",
    "    y_train_i = y_train[ix]\n",
    "    clf = tree.DecisionTreeRegressor(random_state=0, max_depth=6)\n",
    "    clf.fit(X_train_i, y_train_i)\n",
    "    pred_y_test = clf.predict(X_test)\n",
    "    pred_y_i = clf.predict(X_train_i)\n",
    "    r2[ind[i]+n] = r2_score(y_train_i, pred_y_i), r2_score(y_test, pred_y_test) \n",
    "plt = plot_learning('r2',x='training data')\n",
    "plt.savefig('./paper/figures/house_dt_learn_r2_data.png', format='png', transparent=True)\n",
    "plt.show()"
   ]
  },
  {
   "cell_type": "markdown",
   "id": "964748f5",
   "metadata": {},
   "source": [
    "### Set the max_depth=3, errors much more balanced. Validation error smaller than unrestricted."
   ]
  },
  {
   "cell_type": "code",
   "execution_count": 106,
   "id": "4c6c581a",
   "metadata": {},
   "outputs": [
    {
     "data": {
      "text/plain": [
       "((DecisionTreeRegressor(max_depth=7, min_samples_leaf=14, random_state=0),\n",
       "  7,\n",
       "  14),\n",
       " 0.6969584329004015)"
      ]
     },
     "execution_count": 106,
     "metadata": {},
     "output_type": "execute_result"
    }
   ],
   "source": [
    "\n",
    "mse = {}\n",
    "clfs = {}\n",
    "best = None\n",
    "best_score = -1000\n",
    "for depth in range(2,8):\n",
    "    for split in range(5,30):\n",
    "        clf = tree.DecisionTreeRegressor(random_state=0, min_samples_leaf=split, max_depth=depth)\n",
    "        clf.fit(X_train, y_train)\n",
    "        if r2_score(y_test, clf.predict(X_test)) > best_score:\n",
    "            best_score = r2_score(y_test, clf.predict(X_test))\n",
    "            best = clf, depth, split\n",
    "\n",
    "best, best_score"
   ]
  },
  {
   "cell_type": "code",
   "execution_count": 108,
   "id": "9cf91a88",
   "metadata": {},
   "outputs": [
    {
     "data": {
      "text/plain": [
       "(0.7689031814276044, 0.6863910248484426)"
      ]
     },
     "execution_count": 108,
     "metadata": {},
     "output_type": "execute_result"
    }
   ],
   "source": [
    "clf = tree.DecisionTreeRegressor(random_state=0, max_depth=7, min_samples_leaf=14)\n",
    "clf = clf.fit(X, y)\n",
    "pred_y = clf.predict(X)\n",
    "\n",
    "clf.score(X, y), clf.score(X_val, y_val)"
   ]
  },
  {
   "cell_type": "code",
   "execution_count": 104,
   "id": "192350c9",
   "metadata": {},
   "outputs": [
    {
     "data": {
      "text/plain": [
       "(0.7489708391017302, 0.6747181885933773)"
      ]
     },
     "execution_count": 104,
     "metadata": {},
     "output_type": "execute_result"
    }
   ],
   "source": [
    "clf.score(X_train, y_train), clf.score(X_test, y_test)"
   ]
  },
  {
   "cell_type": "code",
   "execution_count": 576,
   "id": "e4cddc59",
   "metadata": {},
   "outputs": [
    {
     "data": {
      "image/svg+xml": [
       "<?xml version=\"1.0\" encoding=\"UTF-8\" standalone=\"no\"?>\n",
       "<!DOCTYPE svg PUBLIC \"-//W3C//DTD SVG 1.1//EN\"\n",
       " \"http://www.w3.org/Graphics/SVG/1.1/DTD/svg11.dtd\">\n",
       "<!-- Generated by graphviz version 2.50.0 (0)\n",
       " -->\n",
       "<!-- Title: Tree Pages: 1 -->\n",
       "<svg width=\"1918pt\" height=\"373pt\"\n",
       " viewBox=\"0.00 0.00 1918.00 373.00\" xmlns=\"http://www.w3.org/2000/svg\" xmlns:xlink=\"http://www.w3.org/1999/xlink\">\n",
       "<g id=\"graph0\" class=\"graph\" transform=\"scale(1 1) rotate(0) translate(4 369)\">\n",
       "<title>Tree</title>\n",
       "<polygon fill=\"white\" stroke=\"transparent\" points=\"-4,4 -4,-369 1914,-369 1914,4 -4,4\"/>\n",
       "<!-- 0 -->\n",
       "<g id=\"node1\" class=\"node\">\n",
       "<title>0</title>\n",
       "<polygon fill=\"none\" stroke=\"black\" points=\"1064,-365 838,-365 838,-297 1064,-297 1064,-365\"/>\n",
       "<text text-anchor=\"middle\" x=\"951\" y=\"-349.8\" font-family=\"Helvetica,sans-Serif\" font-size=\"14.00\">X[3] &lt;= 2425.0</text>\n",
       "<text text-anchor=\"middle\" x=\"951\" y=\"-334.8\" font-family=\"Helvetica,sans-Serif\" font-size=\"14.00\">squared_error = 65234546999.476</text>\n",
       "<text text-anchor=\"middle\" x=\"951\" y=\"-319.8\" font-family=\"Helvetica,sans-Serif\" font-size=\"14.00\">samples = 1981</text>\n",
       "<text text-anchor=\"middle\" x=\"951\" y=\"-304.8\" font-family=\"Helvetica,sans-Serif\" font-size=\"14.00\">value = 512658.822</text>\n",
       "</g>\n",
       "<!-- 1 -->\n",
       "<g id=\"node2\" class=\"node\">\n",
       "<title>1</title>\n",
       "<polygon fill=\"none\" stroke=\"black\" points=\"820,-261 594,-261 594,-193 820,-193 820,-261\"/>\n",
       "<text text-anchor=\"middle\" x=\"707\" y=\"-245.8\" font-family=\"Helvetica,sans-Serif\" font-size=\"14.00\">X[13] &lt;= 47.533</text>\n",
       "<text text-anchor=\"middle\" x=\"707\" y=\"-230.8\" font-family=\"Helvetica,sans-Serif\" font-size=\"14.00\">squared_error = 30050885268.829</text>\n",
       "<text text-anchor=\"middle\" x=\"707\" y=\"-215.8\" font-family=\"Helvetica,sans-Serif\" font-size=\"14.00\">samples = 1403</text>\n",
       "<text text-anchor=\"middle\" x=\"707\" y=\"-200.8\" font-family=\"Helvetica,sans-Serif\" font-size=\"14.00\">value = 420275.132</text>\n",
       "</g>\n",
       "<!-- 0&#45;&gt;1 -->\n",
       "<g id=\"edge1\" class=\"edge\">\n",
       "<title>0&#45;&gt;1</title>\n",
       "<path fill=\"none\" stroke=\"black\" d=\"M871.78,-296.88C847.47,-286.72 820.57,-275.48 795.67,-265.07\"/>\n",
       "<polygon fill=\"black\" stroke=\"black\" points=\"796.82,-261.75 786.24,-261.12 794.12,-268.21 796.82,-261.75\"/>\n",
       "<text text-anchor=\"middle\" x=\"795.73\" y=\"-280.55\" font-family=\"Helvetica,sans-Serif\" font-size=\"14.00\">True</text>\n",
       "</g>\n",
       "<!-- 8 -->\n",
       "<g id=\"node9\" class=\"node\">\n",
       "<title>8</title>\n",
       "<polygon fill=\"none\" stroke=\"black\" points=\"1304,-261 1078,-261 1078,-193 1304,-193 1304,-261\"/>\n",
       "<text text-anchor=\"middle\" x=\"1191\" y=\"-245.8\" font-family=\"Helvetica,sans-Serif\" font-size=\"14.00\">X[13] &lt;= 47.525</text>\n",
       "<text text-anchor=\"middle\" x=\"1191\" y=\"-230.8\" font-family=\"Helvetica,sans-Serif\" font-size=\"14.00\">squared_error = 79634040416.778</text>\n",
       "<text text-anchor=\"middle\" x=\"1191\" y=\"-215.8\" font-family=\"Helvetica,sans-Serif\" font-size=\"14.00\">samples = 578</text>\n",
       "<text text-anchor=\"middle\" x=\"1191\" y=\"-200.8\" font-family=\"Helvetica,sans-Serif\" font-size=\"14.00\">value = 736905.046</text>\n",
       "</g>\n",
       "<!-- 0&#45;&gt;8 -->\n",
       "<g id=\"edge8\" class=\"edge\">\n",
       "<title>0&#45;&gt;8</title>\n",
       "<path fill=\"none\" stroke=\"black\" d=\"M1028.92,-296.88C1052.83,-286.72 1079.29,-275.48 1103.78,-265.07\"/>\n",
       "<polygon fill=\"black\" stroke=\"black\" points=\"1105.23,-268.26 1113.06,-261.12 1102.49,-261.82 1105.23,-268.26\"/>\n",
       "<text text-anchor=\"middle\" x=\"1103.7\" y=\"-280.61\" font-family=\"Helvetica,sans-Serif\" font-size=\"14.00\">False</text>\n",
       "</g>\n",
       "<!-- 2 -->\n",
       "<g id=\"node3\" class=\"node\">\n",
       "<title>2</title>\n",
       "<polygon fill=\"none\" stroke=\"black\" points=\"450.5,-157 239.5,-157 239.5,-89 450.5,-89 450.5,-157\"/>\n",
       "<text text-anchor=\"middle\" x=\"345\" y=\"-141.8\" font-family=\"Helvetica,sans-Serif\" font-size=\"14.00\">X[3] &lt;= 1505.0</text>\n",
       "<text text-anchor=\"middle\" x=\"345\" y=\"-126.8\" font-family=\"Helvetica,sans-Serif\" font-size=\"14.00\">squared_error = 9428128624.66</text>\n",
       "<text text-anchor=\"middle\" x=\"345\" y=\"-111.8\" font-family=\"Helvetica,sans-Serif\" font-size=\"14.00\">samples = 523</text>\n",
       "<text text-anchor=\"middle\" x=\"345\" y=\"-96.8\" font-family=\"Helvetica,sans-Serif\" font-size=\"14.00\">value = 294899.727</text>\n",
       "</g>\n",
       "<!-- 1&#45;&gt;2 -->\n",
       "<g id=\"edge2\" class=\"edge\">\n",
       "<title>1&#45;&gt;2</title>\n",
       "<path fill=\"none\" stroke=\"black\" d=\"M593.95,-194.15C551.51,-182.19 503.25,-168.59 460.58,-156.57\"/>\n",
       "<polygon fill=\"black\" stroke=\"black\" points=\"461.29,-153.13 450.72,-153.79 459.39,-159.87 461.29,-153.13\"/>\n",
       "</g>\n",
       "<!-- 5 -->\n",
       "<g id=\"node6\" class=\"node\">\n",
       "<title>5</title>\n",
       "<polygon fill=\"none\" stroke=\"black\" points=\"819.5,-157 594.5,-157 594.5,-89 819.5,-89 819.5,-157\"/>\n",
       "<text text-anchor=\"middle\" x=\"707\" y=\"-141.8\" font-family=\"Helvetica,sans-Serif\" font-size=\"14.00\">X[3] &lt;= 1655.0</text>\n",
       "<text text-anchor=\"middle\" x=\"707\" y=\"-126.8\" font-family=\"Helvetica,sans-Serif\" font-size=\"14.00\">squared_error = 27413111851.245</text>\n",
       "<text text-anchor=\"middle\" x=\"707\" y=\"-111.8\" font-family=\"Helvetica,sans-Serif\" font-size=\"14.00\">samples = 880</text>\n",
       "<text text-anchor=\"middle\" x=\"707\" y=\"-96.8\" font-family=\"Helvetica,sans-Serif\" font-size=\"14.00\">value = 494788.015</text>\n",
       "</g>\n",
       "<!-- 1&#45;&gt;5 -->\n",
       "<g id=\"edge5\" class=\"edge\">\n",
       "<title>1&#45;&gt;5</title>\n",
       "<path fill=\"none\" stroke=\"black\" d=\"M707,-192.88C707,-184.78 707,-175.98 707,-167.47\"/>\n",
       "<polygon fill=\"black\" stroke=\"black\" points=\"710.5,-167.3 707,-157.3 703.5,-167.3 710.5,-167.3\"/>\n",
       "</g>\n",
       "<!-- 3 -->\n",
       "<g id=\"node4\" class=\"node\">\n",
       "<title>3</title>\n",
       "<polygon fill=\"none\" stroke=\"black\" points=\"218,-53 0,-53 0,0 218,0 218,-53\"/>\n",
       "<text text-anchor=\"middle\" x=\"109\" y=\"-37.8\" font-family=\"Helvetica,sans-Serif\" font-size=\"14.00\">squared_error = 3789209407.671</text>\n",
       "<text text-anchor=\"middle\" x=\"109\" y=\"-22.8\" font-family=\"Helvetica,sans-Serif\" font-size=\"14.00\">samples = 204</text>\n",
       "<text text-anchor=\"middle\" x=\"109\" y=\"-7.8\" font-family=\"Helvetica,sans-Serif\" font-size=\"14.00\">value = 240048.854</text>\n",
       "</g>\n",
       "<!-- 2&#45;&gt;3 -->\n",
       "<g id=\"edge3\" class=\"edge\">\n",
       "<title>2&#45;&gt;3</title>\n",
       "<path fill=\"none\" stroke=\"black\" d=\"M262.46,-88.95C236.41,-78.52 207.82,-67.07 182.45,-56.91\"/>\n",
       "<polygon fill=\"black\" stroke=\"black\" points=\"183.48,-53.55 172.9,-53.09 180.88,-60.05 183.48,-53.55\"/>\n",
       "</g>\n",
       "<!-- 4 -->\n",
       "<g id=\"node5\" class=\"node\">\n",
       "<title>4</title>\n",
       "<polygon fill=\"none\" stroke=\"black\" points=\"454,-53 236,-53 236,0 454,0 454,-53\"/>\n",
       "<text text-anchor=\"middle\" x=\"345\" y=\"-37.8\" font-family=\"Helvetica,sans-Serif\" font-size=\"14.00\">squared_error = 9879802787.734</text>\n",
       "<text text-anchor=\"middle\" x=\"345\" y=\"-22.8\" font-family=\"Helvetica,sans-Serif\" font-size=\"14.00\">samples = 319</text>\n",
       "<text text-anchor=\"middle\" x=\"345\" y=\"-7.8\" font-family=\"Helvetica,sans-Serif\" font-size=\"14.00\">value = 329976.774</text>\n",
       "</g>\n",
       "<!-- 2&#45;&gt;4 -->\n",
       "<g id=\"edge4\" class=\"edge\">\n",
       "<title>2&#45;&gt;4</title>\n",
       "<path fill=\"none\" stroke=\"black\" d=\"M345,-88.95C345,-80.72 345,-71.85 345,-63.48\"/>\n",
       "<polygon fill=\"black\" stroke=\"black\" points=\"348.5,-63.24 345,-53.24 341.5,-63.24 348.5,-63.24\"/>\n",
       "</g>\n",
       "<!-- 6 -->\n",
       "<g id=\"node7\" class=\"node\">\n",
       "<title>6</title>\n",
       "<polygon fill=\"none\" stroke=\"black\" points=\"698,-53 472,-53 472,0 698,0 698,-53\"/>\n",
       "<text text-anchor=\"middle\" x=\"585\" y=\"-37.8\" font-family=\"Helvetica,sans-Serif\" font-size=\"14.00\">squared_error = 15170421087.184</text>\n",
       "<text text-anchor=\"middle\" x=\"585\" y=\"-22.8\" font-family=\"Helvetica,sans-Serif\" font-size=\"14.00\">samples = 466</text>\n",
       "<text text-anchor=\"middle\" x=\"585\" y=\"-7.8\" font-family=\"Helvetica,sans-Serif\" font-size=\"14.00\">value = 423895.23</text>\n",
       "</g>\n",
       "<!-- 5&#45;&gt;6 -->\n",
       "<g id=\"edge6\" class=\"edge\">\n",
       "<title>5&#45;&gt;6</title>\n",
       "<path fill=\"none\" stroke=\"black\" d=\"M664.33,-88.95C652.05,-79.43 638.67,-69.07 626.46,-59.62\"/>\n",
       "<polygon fill=\"black\" stroke=\"black\" points=\"628.28,-56.59 618.23,-53.24 623.99,-62.13 628.28,-56.59\"/>\n",
       "</g>\n",
       "<!-- 7 -->\n",
       "<g id=\"node8\" class=\"node\">\n",
       "<title>7</title>\n",
       "<polygon fill=\"none\" stroke=\"black\" points=\"942,-53 716,-53 716,0 942,0 942,-53\"/>\n",
       "<text text-anchor=\"middle\" x=\"829\" y=\"-37.8\" font-family=\"Helvetica,sans-Serif\" font-size=\"14.00\">squared_error = 29168894767.005</text>\n",
       "<text text-anchor=\"middle\" x=\"829\" y=\"-22.8\" font-family=\"Helvetica,sans-Serif\" font-size=\"14.00\">samples = 414</text>\n",
       "<text text-anchor=\"middle\" x=\"829\" y=\"-7.8\" font-family=\"Helvetica,sans-Serif\" font-size=\"14.00\">value = 574585.208</text>\n",
       "</g>\n",
       "<!-- 5&#45;&gt;7 -->\n",
       "<g id=\"edge7\" class=\"edge\">\n",
       "<title>5&#45;&gt;7</title>\n",
       "<path fill=\"none\" stroke=\"black\" d=\"M749.67,-88.95C761.95,-79.43 775.33,-69.07 787.54,-59.62\"/>\n",
       "<polygon fill=\"black\" stroke=\"black\" points=\"790.01,-62.13 795.77,-53.24 785.72,-56.59 790.01,-62.13\"/>\n",
       "</g>\n",
       "<!-- 9 -->\n",
       "<g id=\"node10\" class=\"node\">\n",
       "<title>9</title>\n",
       "<polygon fill=\"none\" stroke=\"black\" points=\"1304,-157 1078,-157 1078,-89 1304,-89 1304,-157\"/>\n",
       "<text text-anchor=\"middle\" x=\"1191\" y=\"-141.8\" font-family=\"Helvetica,sans-Serif\" font-size=\"14.00\">X[3] &lt;= 3445.0</text>\n",
       "<text text-anchor=\"middle\" x=\"1191\" y=\"-126.8\" font-family=\"Helvetica,sans-Serif\" font-size=\"14.00\">squared_error = 24067003907.735</text>\n",
       "<text text-anchor=\"middle\" x=\"1191\" y=\"-111.8\" font-family=\"Helvetica,sans-Serif\" font-size=\"14.00\">samples = 156</text>\n",
       "<text text-anchor=\"middle\" x=\"1191\" y=\"-96.8\" font-family=\"Helvetica,sans-Serif\" font-size=\"14.00\">value = 502284.553</text>\n",
       "</g>\n",
       "<!-- 8&#45;&gt;9 -->\n",
       "<g id=\"edge9\" class=\"edge\">\n",
       "<title>8&#45;&gt;9</title>\n",
       "<path fill=\"none\" stroke=\"black\" d=\"M1191,-192.88C1191,-184.78 1191,-175.98 1191,-167.47\"/>\n",
       "<polygon fill=\"black\" stroke=\"black\" points=\"1194.5,-167.3 1191,-157.3 1187.5,-167.3 1194.5,-167.3\"/>\n",
       "</g>\n",
       "<!-- 12 -->\n",
       "<g id=\"node13\" class=\"node\">\n",
       "<title>12</title>\n",
       "<polygon fill=\"none\" stroke=\"black\" points=\"1666,-157 1440,-157 1440,-89 1666,-89 1666,-157\"/>\n",
       "<text text-anchor=\"middle\" x=\"1553\" y=\"-141.8\" font-family=\"Helvetica,sans-Serif\" font-size=\"14.00\">X[13] &lt;= 47.701</text>\n",
       "<text text-anchor=\"middle\" x=\"1553\" y=\"-126.8\" font-family=\"Helvetica,sans-Serif\" font-size=\"14.00\">squared_error = 72303968536.623</text>\n",
       "<text text-anchor=\"middle\" x=\"1553\" y=\"-111.8\" font-family=\"Helvetica,sans-Serif\" font-size=\"14.00\">samples = 422</text>\n",
       "<text text-anchor=\"middle\" x=\"1553\" y=\"-96.8\" font-family=\"Helvetica,sans-Serif\" font-size=\"14.00\">value = 823636.793</text>\n",
       "</g>\n",
       "<!-- 8&#45;&gt;12 -->\n",
       "<g id=\"edge12\" class=\"edge\">\n",
       "<title>8&#45;&gt;12</title>\n",
       "<path fill=\"none\" stroke=\"black\" d=\"M1304.05,-194.15C1344.09,-182.86 1389.33,-170.12 1430.15,-158.62\"/>\n",
       "<polygon fill=\"black\" stroke=\"black\" points=\"1431.2,-161.96 1439.87,-155.88 1429.3,-155.22 1431.2,-161.96\"/>\n",
       "</g>\n",
       "<!-- 10 -->\n",
       "<g id=\"node11\" class=\"node\">\n",
       "<title>10</title>\n",
       "<polygon fill=\"none\" stroke=\"black\" points=\"1186,-53 960,-53 960,0 1186,0 1186,-53\"/>\n",
       "<text text-anchor=\"middle\" x=\"1073\" y=\"-37.8\" font-family=\"Helvetica,sans-Serif\" font-size=\"14.00\">squared_error = 14739180055.168</text>\n",
       "<text text-anchor=\"middle\" x=\"1073\" y=\"-22.8\" font-family=\"Helvetica,sans-Serif\" font-size=\"14.00\">samples = 127</text>\n",
       "<text text-anchor=\"middle\" x=\"1073\" y=\"-7.8\" font-family=\"Helvetica,sans-Serif\" font-size=\"14.00\">value = 464563.932</text>\n",
       "</g>\n",
       "<!-- 9&#45;&gt;10 -->\n",
       "<g id=\"edge10\" class=\"edge\">\n",
       "<title>9&#45;&gt;10</title>\n",
       "<path fill=\"none\" stroke=\"black\" d=\"M1149.73,-88.95C1137.85,-79.43 1124.91,-69.07 1113.1,-59.62\"/>\n",
       "<polygon fill=\"black\" stroke=\"black\" points=\"1115.13,-56.76 1105.14,-53.24 1110.75,-62.22 1115.13,-56.76\"/>\n",
       "</g>\n",
       "<!-- 11 -->\n",
       "<g id=\"node12\" class=\"node\">\n",
       "<title>11</title>\n",
       "<polygon fill=\"none\" stroke=\"black\" points=\"1422,-53 1204,-53 1204,0 1422,0 1422,-53\"/>\n",
       "<text text-anchor=\"middle\" x=\"1313\" y=\"-37.8\" font-family=\"Helvetica,sans-Serif\" font-size=\"14.00\">squared_error = 31397520224.67</text>\n",
       "<text text-anchor=\"middle\" x=\"1313\" y=\"-22.8\" font-family=\"Helvetica,sans-Serif\" font-size=\"14.00\">samples = 29</text>\n",
       "<text text-anchor=\"middle\" x=\"1313\" y=\"-7.8\" font-family=\"Helvetica,sans-Serif\" font-size=\"14.00\">value = 667474.862</text>\n",
       "</g>\n",
       "<!-- 9&#45;&gt;11 -->\n",
       "<g id=\"edge11\" class=\"edge\">\n",
       "<title>9&#45;&gt;11</title>\n",
       "<path fill=\"none\" stroke=\"black\" d=\"M1233.67,-88.95C1245.95,-79.43 1259.33,-69.07 1271.54,-59.62\"/>\n",
       "<polygon fill=\"black\" stroke=\"black\" points=\"1274.01,-62.13 1279.77,-53.24 1269.72,-56.59 1274.01,-62.13\"/>\n",
       "</g>\n",
       "<!-- 13 -->\n",
       "<g id=\"node14\" class=\"node\">\n",
       "<title>13</title>\n",
       "<polygon fill=\"none\" stroke=\"black\" points=\"1666,-53 1440,-53 1440,0 1666,0 1666,-53\"/>\n",
       "<text text-anchor=\"middle\" x=\"1553\" y=\"-37.8\" font-family=\"Helvetica,sans-Serif\" font-size=\"14.00\">squared_error = 73543544819.593</text>\n",
       "<text text-anchor=\"middle\" x=\"1553\" y=\"-22.8\" font-family=\"Helvetica,sans-Serif\" font-size=\"14.00\">samples = 335</text>\n",
       "<text text-anchor=\"middle\" x=\"1553\" y=\"-7.8\" font-family=\"Helvetica,sans-Serif\" font-size=\"14.00\">value = 871573.097</text>\n",
       "</g>\n",
       "<!-- 12&#45;&gt;13 -->\n",
       "<g id=\"edge13\" class=\"edge\">\n",
       "<title>12&#45;&gt;13</title>\n",
       "<path fill=\"none\" stroke=\"black\" d=\"M1553,-88.95C1553,-80.72 1553,-71.85 1553,-63.48\"/>\n",
       "<polygon fill=\"black\" stroke=\"black\" points=\"1556.5,-63.24 1553,-53.24 1549.5,-63.24 1556.5,-63.24\"/>\n",
       "</g>\n",
       "<!-- 14 -->\n",
       "<g id=\"node15\" class=\"node\">\n",
       "<title>14</title>\n",
       "<polygon fill=\"none\" stroke=\"black\" points=\"1910,-53 1684,-53 1684,0 1910,0 1910,-53\"/>\n",
       "<text text-anchor=\"middle\" x=\"1797\" y=\"-37.8\" font-family=\"Helvetica,sans-Serif\" font-size=\"14.00\">squared_error = 24612059803.255</text>\n",
       "<text text-anchor=\"middle\" x=\"1797\" y=\"-22.8\" font-family=\"Helvetica,sans-Serif\" font-size=\"14.00\">samples = 87</text>\n",
       "<text text-anchor=\"middle\" x=\"1797\" y=\"-7.8\" font-family=\"Helvetica,sans-Serif\" font-size=\"14.00\">value = 639054.471</text>\n",
       "</g>\n",
       "<!-- 12&#45;&gt;14 -->\n",
       "<g id=\"edge14\" class=\"edge\">\n",
       "<title>12&#45;&gt;14</title>\n",
       "<path fill=\"none\" stroke=\"black\" d=\"M1638.34,-88.95C1665.39,-78.47 1695.09,-66.97 1721.4,-56.78\"/>\n",
       "<polygon fill=\"black\" stroke=\"black\" points=\"1722.87,-59.96 1730.93,-53.09 1720.35,-53.43 1722.87,-59.96\"/>\n",
       "</g>\n",
       "</g>\n",
       "</svg>\n"
      ],
      "text/plain": [
       "<graphviz.sources.Source at 0x1346dd190>"
      ]
     },
     "execution_count": 576,
     "metadata": {},
     "output_type": "execute_result"
    }
   ],
   "source": [
    "clf_data = tree.export_graphviz(clf, out_file=None) \n",
    "graph = graphviz.Source(clf_data) \n",
    "graph.render(\"CART_max_depth3\") \n",
    "graph"
   ]
  },
  {
   "cell_type": "markdown",
   "id": "e266a3cb",
   "metadata": {},
   "source": [
    "## K-Nearest Neighbors"
   ]
  },
  {
   "cell_type": "code",
   "execution_count": 122,
   "id": "6759fbf5",
   "metadata": {},
   "outputs": [],
   "source": [
    "from sklearn.neighbors import KNeighborsRegressor\n"
   ]
  },
  {
   "cell_type": "code",
   "execution_count": 123,
   "id": "fcc2a909",
   "metadata": {},
   "outputs": [],
   "source": [
    "def return_best_model(X_train, X_test, y_train, y_test):\n",
    "\n",
    "    best_model = None\n",
    "    best_score = -1000\n",
    "    K = [k for k in range(1,10)]\n",
    "    weights = ['uniform', 'distance']\n",
    "\n",
    "    for k in K:\n",
    "        for weight in weights:\n",
    "            knn = KNeighborsRegressor(n_neighbors=k, weights=weight)\n",
    "            knn.fit(X_train, y_train)\n",
    "            if knn.score(X_test, y_test) > best_score:\n",
    "                best_model = knn\n",
    "                best_score = knn.score(X_test, y_test)\n",
    "    \n",
    "    return best_model, best_score\n",
    "            "
   ]
  },
  {
   "cell_type": "code",
   "execution_count": null,
   "id": "13da65e2",
   "metadata": {},
   "outputs": [],
   "source": []
  },
  {
   "cell_type": "markdown",
   "id": "f82de7aa",
   "metadata": {},
   "source": [
    "#### Best KNN model on a test set"
   ]
  },
  {
   "cell_type": "code",
   "execution_count": 130,
   "id": "c3680ead",
   "metadata": {},
   "outputs": [
    {
     "name": "stdout",
     "output_type": "stream",
     "text": [
      "KNeighborsRegressor(n_neighbors=9)\n",
      "Testing r2: 0.5024857070598354\n",
      "Testing r2: 0.39817850544095756\n",
      "Validation r2: 0.4120534118407131\n",
      "Full data r2: 0.4171758369985006\n"
     ]
    }
   ],
   "source": [
    "X_train, X_test, y_train, y_test = train_test_split(X, y, test_size = 0.33, random_state = 2072020)\n",
    "knn, knn_score = return_best_model(X_train, X_test, y_train, y_test)\n",
    "knn.fit(X_train, y_train)\n",
    "\n",
    "print(knn)\n",
    "print(\"Testing r2:\", knn.score(X_train, y_train))\n",
    "print(\"Testing r2:\", knn.score(X_test, y_test))\n",
    "print(\"Validation r2:\", knn.score(X_val, y_val))\n",
    "\n",
    "knn.fit(X, y)\n",
    "print(\"Full data r2:\", knn.score(X_val, y_val))\n"
   ]
  },
  {
   "cell_type": "code",
   "execution_count": 128,
   "id": "90aa6932",
   "metadata": {},
   "outputs": [
    {
     "data": {
      "image/png": "[encoded data removed]",
      "text/plain": [
       "<Figure size 432x288 with 1 Axes>"
      ]
     },
     "metadata": {
      "needs_background": "light"
     },
     "output_type": "display_data"
    }
   ],
   "source": [
    "n_splits = 5\n",
    "n = X_train.shape[0] // n_splits\n",
    "ind = [i*n for i in range(5)]\n",
    "ind.reverse()\n",
    "r2 = {}\n",
    "for i in range(n_splits):\n",
    "    ix = [j >= ind[i] for j in range(X_train.shape[0])]\n",
    "    X_train_i = X_train[ix]\n",
    "    y_train_i = y_train[ix]\n",
    "    clf = KNeighborsRegressor(n_neighbors=9)\n",
    "    clf.fit(X_train_i, y_train_i)\n",
    "    pred_y_test = clf.predict(X_test)\n",
    "    pred_y_i = clf.predict(X_train_i)\n",
    "    r2[ind[i]+n] = r2_score(y_train_i, pred_y_i), r2_score(y_test, pred_y_test) \n",
    "plt = plot_learning('r2',x='training data')\n",
    "plt.savefig('./paper/figures/house_knn_learn_r2_data.png', format='png', transparent=True)\n",
    "plt.show()"
   ]
  },
  {
   "cell_type": "markdown",
   "id": "8d60f538",
   "metadata": {},
   "source": [
    "#### Use k-fold validation"
   ]
  },
  {
   "cell_type": "code",
   "execution_count": 112,
   "id": "c178f5cb",
   "metadata": {},
   "outputs": [
    {
     "name": "stdout",
     "output_type": "stream",
     "text": [
      "KNeighborsRegressor(weights='distance')\n",
      "KNeighborsRegressor()\n",
      "KNeighborsRegressor()\n",
      "KNeighborsRegressor()\n",
      "KNeighborsRegressor()\n"
     ]
    },
    {
     "data": {
      "text/plain": [
       "0.4013633447930183"
      ]
     },
     "execution_count": 112,
     "metadata": {},
     "output_type": "execute_result"
    }
   ],
   "source": [
    "from sklearn.model_selection import KFold\n",
    "\n",
    "n_splits = 5\n",
    "kf = KFold(n_splits=n_splits, shuffle=True, random_state=0)\n",
    "kf.get_n_splits(X)\n",
    "\n",
    "KNNs = []\n",
    "for train_index, test_index in kf.split(X):\n",
    "    X_train, X_test = X[train_index], X[test_index]\n",
    "    y_train, y_test = y[train_index], y[test_index]\n",
    "    knn, knn_score = return_best_model(X_train, X_test, y_train, y_test)\n",
    "    #print(knn.score(X_test, y_test))\n",
    "    KNNs.append(knn)\n",
    "    \n",
    "preds = np.empty((y_val.shape[0], n_splits))\n",
    "for i in range(n_splits):\n",
    "    print(KNNs[i])\n",
    "    preds[:,i] = KNNs[i].predict(X_val)\n",
    "    \n",
    "\n",
    "y_val_hat = np.mean(preds, axis=1)\n",
    "\n",
    "r2_score(y_val, y_val_hat)\n",
    "\n",
    "\n",
    "\n"
   ]
  },
  {
   "cell_type": "markdown",
   "id": "bdbe81cb",
   "metadata": {},
   "source": [
    "#### Maybe some feature selection on X?"
   ]
  },
  {
   "cell_type": "code",
   "execution_count": 114,
   "id": "d7b23e44",
   "metadata": {},
   "outputs": [],
   "source": [
    "\n",
    "\n",
    "KNNs = np.empty((n_splits, X.shape[1]))\n",
    "KNN_full = np.empty((n_splits,1))\n",
    "dims = list(range(X.shape[1]))\n",
    "ix = 0\n",
    "for train_index, test_index in kf.split(X):\n",
    "    X_train, X_test = X[train_index], X[test_index]\n",
    "    y_train, y_test = y[train_index], y[test_index]\n",
    "    knn, knn_score = return_best_model(X_train, X_test, y_train, y_test)\n",
    "    KNN_full[ix,0] = knn.score(X_test, y_test)\n",
    "    for i in dims:\n",
    "        index = [i]\n",
    "        knn, knn_score = return_best_model(X_train[:,index], X_test[:,index], y_train, y_test)\n",
    "        #print(knn.score(X_test, y_test))\n",
    "        KNNs[ix,i] = knn.score(X_test[:,index], y_test)\n",
    "    \n",
    "    ix += 1\n",
    "    "
   ]
  },
  {
   "cell_type": "markdown",
   "id": "f3f58b22",
   "metadata": {},
   "source": [
    "#### Find the dimensions that performed better on their own"
   ]
  },
  {
   "cell_type": "code",
   "execution_count": 115,
   "id": "0701fa90",
   "metadata": {
    "scrolled": true
   },
   "outputs": [
    {
     "name": "stdout",
     "output_type": "stream",
     "text": [
      "day -0.5381921149894853\n",
      "bedrooms -0.41296939528576687\n",
      "bathrooms -0.22607015256475135\n",
      "sqft_living -0.06597971971922839\n",
      "sqft_lot -0.4870567267806677\n",
      "floors -0.5898628390815653\n",
      "waterfront -0.3886683734712812\n",
      "view -0.33449663237440747\n",
      "condition -0.5409657947456945\n",
      "sqft_above -0.20736584453443357\n",
      "sqft_basement -0.4161756984186408\n",
      "yr_built -0.5107504519681736\n",
      "yr_renovated -0.5537639324089848\n",
      "lat -0.18516890855121726\n",
      "lon -0.4759566946352702\n"
     ]
    }
   ],
   "source": [
    "colnames = ['day', 'bedrooms', 'bathrooms', 'sqft_living', 'sqft_lot',\n",
    "           'floors', 'waterfront', 'view', 'condition', 'sqft_above',\n",
    "           'sqft_basement', 'yr_built', 'yr_renovated', 'lat','lon']\n",
    "chg = []\n",
    "\n",
    "for i in range(X.shape[1]):\n",
    "    chg.append(np.mean(KNN_full) - np.mean(KNNs[:,i], axis = 0))\n",
    "    print(colnames[i], np.mean(KNNs[:,i], axis = 0) - np.mean(KNN_full))"
   ]
  },
  {
   "cell_type": "markdown",
   "id": "4e69cf9c",
   "metadata": {},
   "source": [
    "#### Start with best and add features, check test data"
   ]
  },
  {
   "cell_type": "code",
   "execution_count": 131,
   "id": "bf7148b5",
   "metadata": {
    "scrolled": true
   },
   "outputs": [
    {
     "data": {
      "text/plain": [
       "{((3,), KNeighborsRegressor(n_neighbors=9)): 0.360882357430738,\n",
       " ((3, 13),\n",
       "  KNeighborsRegressor(n_neighbors=7, weights='distance')): 0.46392625330093706,\n",
       " ((3, 9, 13), KNeighborsRegressor(n_neighbors=9)): 0.42587253044390644,\n",
       " ((2, 3, 9, 13), KNeighborsRegressor(n_neighbors=9)): 0.40717648145945595,\n",
       " ((2, 3, 7, 9, 13), KNeighborsRegressor(n_neighbors=9)): 0.4066178061227923,\n",
       " ((2, 3, 6, 7, 9, 13), KNeighborsRegressor(n_neighbors=9)): 0.4066178061227923,\n",
       " ((1, 2, 3, 6, 7, 9, 13),\n",
       "  KNeighborsRegressor(n_neighbors=9)): 0.3963592299229516,\n",
       " ((1, 2, 3, 6, 7, 9, 10, 13),\n",
       "  KNeighborsRegressor(n_neighbors=9)): 0.3954720593236615,\n",
       " ((1, 2, 3, 6, 7, 9, 10, 13, 14),\n",
       "  KNeighborsRegressor(n_neighbors=9)): 0.394085323158632,\n",
       " ((1, 2, 3, 4, 6, 7, 9, 10, 13, 14),\n",
       "  KNeighborsRegressor(n_neighbors=9)): 0.41053979524372364,\n",
       " ((1, 2, 3, 4, 6, 7, 9, 10, 11, 13, 14),\n",
       "  KNeighborsRegressor(n_neighbors=9)): 0.4129453332217917,\n",
       " ((0, 1, 2, 3, 4, 6, 7, 9, 10, 11, 13, 14),\n",
       "  KNeighborsRegressor(n_neighbors=9)): 0.41317912658678724,\n",
       " ((0, 1, 2, 3, 4, 6, 7, 8, 9, 10, 11, 13, 14),\n",
       "  KNeighborsRegressor(n_neighbors=9)): 0.41317922078143904,\n",
       " ((0, 1, 2, 3, 4, 6, 7, 8, 9, 10, 11, 12, 13, 14),\n",
       "  KNeighborsRegressor(n_neighbors=7)): 0.4052383533198401,\n",
       " ((0, 1, 2, 3, 4, 5, 6, 7, 8, 9, 10, 11, 12, 13, 14),\n",
       "  KNeighborsRegressor(n_neighbors=7)): 0.4052386544928447}"
      ]
     },
     "execution_count": 131,
     "metadata": {},
     "output_type": "execute_result"
    }
   ],
   "source": [
    "import scipy.stats as ss\n",
    "KNNs = []\n",
    "feats = list(range(X.shape[1]))\n",
    "\n",
    "# rank the features\n",
    "ranks = ss.rankdata(chg)\n",
    "\n",
    "tracker = {}\n",
    "\n",
    "for ii in range(len(feats)):\n",
    "    good_feats = [feats[i] for i in range(len(chg)) if ranks[i]-1 <= ii]\n",
    "    scores = []\n",
    "    for train_index, test_index in kf.split(X):\n",
    "        X_train, X_test = X[train_index], X[test_index]\n",
    "        y_train, y_test = y[train_index], y[test_index]\n",
    "        knn, knn_score = return_best_model(X_train[:,good_feats], X_test[:,good_feats], y_train, y_test)\n",
    "        scores.append(knn_score)\n",
    "        KNNs.append(knn)\n",
    "    tracker[(tuple(good_feats), knn)] =  np.mean(scores)\n",
    "    \n",
    "tracker\n",
    "    \n",
    "    \n",
    "    \n"
   ]
  },
  {
   "cell_type": "markdown",
   "id": "cadab6b8",
   "metadata": {},
   "source": [
    "#### Only use combination of features that worked the best to score the validation data"
   ]
  },
  {
   "cell_type": "code",
   "execution_count": 132,
   "id": "ede370fe",
   "metadata": {},
   "outputs": [
    {
     "name": "stdout",
     "output_type": "stream",
     "text": [
      "Best features/model: (3, 13) KNeighborsRegressor(n_neighbors=7, weights='distance')\n",
      "KNN performance on validation data: 0.4720271717747051\n"
     ]
    }
   ],
   "source": [
    "best_score = -np.infty\n",
    "for key, value in tracker.items():\n",
    "    if value > best_score:\n",
    "        feats, knn = key\n",
    "        best_score = value\n",
    "        \n",
    "print(\"Best features/model:\", feats, knn)\n",
    "\n",
    "\n",
    "y_val_hat = knn.predict(X_val[:,list(feats)])\n",
    "\n",
    "print(\"KNN performance on validation data:\", r2_score(y_val, y_val_hat))"
   ]
  },
  {
   "cell_type": "markdown",
   "id": "a54f0223",
   "metadata": {},
   "source": [
    "## Artificial Neural Networks"
   ]
  },
  {
   "cell_type": "code",
   "execution_count": 4,
   "id": "06dda31c",
   "metadata": {},
   "outputs": [],
   "source": [
    "from sklearn.neural_network import MLPRegressor\n",
    "from sklearn.preprocessing import StandardScaler  \n",
    "\n",
    "import time"
   ]
  },
  {
   "cell_type": "code",
   "execution_count": 5,
   "id": "ed78c106",
   "metadata": {},
   "outputs": [],
   "source": [
    "X_train, X_test, y_train, y_test = train_test_split(X, y, test_size = 0.33, random_state = 2072020)"
   ]
  },
  {
   "cell_type": "markdown",
   "id": "566119f3",
   "metadata": {},
   "source": [
    "#### Start with simple ANN"
   ]
  },
  {
   "cell_type": "code",
   "execution_count": 6,
   "id": "7a19e27e",
   "metadata": {},
   "outputs": [],
   "source": [
    "# scale the data\n",
    "scaler = StandardScaler() \n",
    "scaler.fit(X_train)\n",
    "X_train = scaler.transform(X_train)\n",
    "X_test = scaler.transform(X_test)\n",
    "X_val_scaled = scaler.transform(X_val)"
   ]
  },
  {
   "cell_type": "code",
   "execution_count": 7,
   "id": "f4334bd5",
   "metadata": {},
   "outputs": [],
   "source": [
    "def train_loop(ann, epochs):\n",
    "    training_scores = []\n",
    "    testing_scores = []\n",
    "    best = -1000\n",
    "    best_ann = None\n",
    "    for epoch in range(epochs):\n",
    "        ann.fit(X_train, y_train)\n",
    "        test_score = ann.score(X_test, y_test)\n",
    "        training_scores.append(ann.score(X_train, y_train))\n",
    "        testing_scores.append(test_score)\n",
    "        if test_score > best:\n",
    "            best = test_score\n",
    "            best_ann = ann\n",
    "            \n",
    "    print(\"Final train/test scores:\", training_scores[-1], testing_scores[-1])\n",
    "    \n",
    "    return ann, training_scores, testing_scores, best_ann\n",
    "\n",
    "def plot_learning():\n",
    "    epoch_list = list(range(epochs))\n",
    "    fig, ax = plt.subplots()\n",
    "    ax.set_xlabel(\"Epochs\")\n",
    "    ax.set_ylabel(\"R2 Score\")\n",
    "    ax.set_title(\"Learning Curves for ANN\")\n",
    "    ax.plot(epoch_list, training_scores, label=\"train\")\n",
    "    ax.plot(epoch_list, testing_scores, label=\"test\")\n",
    "    plt.ylim((0,1))\n",
    "    ax.legend()\n",
    "    return plt"
   ]
  },
  {
   "cell_type": "code",
   "execution_count": 144,
   "id": "2c2433c4",
   "metadata": {},
   "outputs": [
    {
     "name": "stderr",
     "output_type": "stream",
     "text": [
      "/usr/local/lib/python3.9/site-packages/sklearn/neural_network/_multilayer_perceptron.py:702: ConvergenceWarning: Stochastic Optimizer: Maximum iterations (1) reached and the optimization hasn't converged yet.\n",
      "  warnings.warn(\n"
     ]
    },
    {
     "name": "stdout",
     "output_type": "stream",
     "text": [
      "Final train/test scores: 0.5671391466121285 0.6273703721624553\n"
     ]
    },
    {
     "data": {
      "image/png": "[encoded data removed]",
      "text/plain": [
       "<Figure size 432x288 with 1 Axes>"
      ]
     },
     "metadata": {
      "needs_background": "light"
     },
     "output_type": "display_data"
    }
   ],
   "source": [
    "# initiate and train loop\n",
    "epochs = 10000\n",
    "params = {\n",
    "    'hidden_layer_sizes':(100,),\n",
    "    'activation':'relu',\n",
    "    'learning_rate_init':0.001,\n",
    "    'random_state':0,\n",
    "    'max_iter':1,\n",
    "    'warm_start':True,\n",
    "    'alpha':0.0001,\n",
    "         }\n",
    "\n",
    "ann = MLPRegressor(**params)\n",
    "\n",
    "ann, training_scores, testing_scores, best_ann = train_loop(ann, epochs)\n"
   ]
  },
  {
   "cell_type": "code",
   "execution_count": 160,
   "id": "1b7065f5",
   "metadata": {},
   "outputs": [
    {
     "data": {
      "image/png": "[encoded data removed]",
      "text/plain": [
       "<Figure size 432x288 with 1 Axes>"
      ]
     },
     "metadata": {
      "needs_background": "light"
     },
     "output_type": "display_data"
    }
   ],
   "source": [
    "plt = plot_learning()\n",
    "plt.savefig('./paper/figures/house_ann_100.png', format='png', transparent=True)"
   ]
  },
  {
   "cell_type": "code",
   "execution_count": 10,
   "id": "5fbf181d",
   "metadata": {},
   "outputs": [
    {
     "name": "stderr",
     "output_type": "stream",
     "text": [
      "/usr/local/lib/python3.9/site-packages/sklearn/neural_network/_multilayer_perceptron.py:702: ConvergenceWarning: Stochastic Optimizer: Maximum iterations (1) reached and the optimization hasn't converged yet.\n",
      "  warnings.warn(\n"
     ]
    },
    {
     "name": "stdout",
     "output_type": "stream",
     "text": [
      "Final train/test scores: 0.8274907496309374 0.6907931566092325\n"
     ]
    },
    {
     "data": {
      "image/png": "[encoded data removed]",
      "text/plain": [
       "<Figure size 432x288 with 1 Axes>"
      ]
     },
     "metadata": {
      "needs_background": "light"
     },
     "output_type": "display_data"
    }
   ],
   "source": [
    "# initiate and train loop\n",
    "epochs = 10000\n",
    "params = {\n",
    "    'hidden_layer_sizes':(100,100),\n",
    "    'activation':'relu',\n",
    "    'learning_rate_init':0.001,\n",
    "    'random_state':0,\n",
    "    'max_iter':1,\n",
    "    'warm_start':True,\n",
    "    'alpha':0.0001,\n",
    "         }\n",
    "\n",
    "ann = MLPRegressor(**params)\n",
    "\n",
    "ann, training_scores, testing_scores, best_ann = train_loop(ann, epochs)\n",
    "plt = plot_learning()\n",
    "plt.savefig('./paper/figures/house_ann_100x2.png', format='png', transparent=True)"
   ]
  },
  {
   "cell_type": "code",
   "execution_count": 14,
   "id": "bde9deda",
   "metadata": {},
   "outputs": [
    {
     "data": {
      "text/plain": [
       "(0.6907931566092325, 0.6232685459409506)"
      ]
     },
     "execution_count": 14,
     "metadata": {},
     "output_type": "execute_result"
    }
   ],
   "source": [
    "r2_score(y_test, best_ann.predict(X_test)), r2_score(y_val, best_ann.predict(X_val_scaled))"
   ]
  },
  {
   "cell_type": "code",
   "execution_count": 15,
   "id": "c473b513",
   "metadata": {},
   "outputs": [
    {
     "name": "stderr",
     "output_type": "stream",
     "text": [
      "/usr/local/lib/python3.9/site-packages/sklearn/neural_network/_multilayer_perceptron.py:702: ConvergenceWarning: Stochastic Optimizer: Maximum iterations (1) reached and the optimization hasn't converged yet.\n",
      "  warnings.warn(\n"
     ]
    },
    {
     "name": "stdout",
     "output_type": "stream",
     "text": [
      "Final train/test scores: 0.7876773366796082 0.6989704893750778\n"
     ]
    },
    {
     "data": {
      "image/png": "[encoded data removed]",
      "text/plain": [
       "<Figure size 432x288 with 1 Axes>"
      ]
     },
     "metadata": {
      "needs_background": "light"
     },
     "output_type": "display_data"
    }
   ],
   "source": [
    "# initiate and train loop\n",
    "epochs = 10000\n",
    "params = {\n",
    "    'hidden_layer_sizes':(10,10,10,10,10,10),\n",
    "    'activation':'relu',\n",
    "    'learning_rate_init':0.001,\n",
    "    'random_state':0,\n",
    "    'max_iter':1,\n",
    "    'warm_start':True,\n",
    "    'alpha':0.0001,\n",
    "         }\n",
    "\n",
    "ann = MLPRegressor(**params)\n",
    "ann, training_scores, testing_scores, best_ann = train_loop(ann, epochs)\n",
    "plt = plot_learning()\n",
    "plt.savefig('./paper/figures/house_ann_10x6.png', format='png', transparent=True)"
   ]
  },
  {
   "cell_type": "code",
   "execution_count": 16,
   "id": "b1d56e9e",
   "metadata": {},
   "outputs": [
    {
     "data": {
      "text/plain": [
       "(0.6989704893750778, 0.6797794851268806)"
      ]
     },
     "execution_count": 16,
     "metadata": {},
     "output_type": "execute_result"
    }
   ],
   "source": [
    "r2_score(y_test, best_ann.predict(X_test)), r2_score(y_val, best_ann.predict(X_val_scaled))"
   ]
  },
  {
   "cell_type": "code",
   "execution_count": null,
   "id": "41711b55",
   "metadata": {},
   "outputs": [
    {
     "name": "stderr",
     "output_type": "stream",
     "text": [
      "/usr/local/lib/python3.9/site-packages/sklearn/neural_network/_multilayer_perceptron.py:702: ConvergenceWarning: Stochastic Optimizer: Maximum iterations (1) reached and the optimization hasn't converged yet.\n",
      "  warnings.warn(\n",
      "/usr/local/lib/python3.9/site-packages/sklearn/neural_network/_multilayer_perceptron.py:709: UserWarning: Training interrupted by user.\n",
      "  warnings.warn(\"Training interrupted by user.\")\n",
      "/usr/local/lib/python3.9/site-packages/sklearn/neural_network/_multilayer_perceptron.py:709: UserWarning: Training interrupted by user.\n",
      "  warnings.warn(\"Training interrupted by user.\")\n"
     ]
    }
   ],
   "source": [
    "# initiate and train loop\n",
    "epochs = 10000\n",
    "params = {\n",
    "    'hidden_layer_sizes':(1000,1000),\n",
    "    'activation':'relu',\n",
    "    'learning_rate_init':0.001,\n",
    "    'random_state':0,\n",
    "    'max_iter':1,\n",
    "    'warm_start':True,\n",
    "    'alpha':0.0001,\n",
    "         }\n",
    "\n",
    "ann = MLPRegressor(**params)\n",
    "ann, training_scores, testing_scores, best_ann = train_loop(ann, epochs)\n",
    "plt = plot_learning()\n",
    "plt.savefig('./paper/figures/house_ann_1000x2.png', format='png', transparent=True)"
   ]
  },
  {
   "cell_type": "code",
   "execution_count": 788,
   "id": "49510685",
   "metadata": {},
   "outputs": [
    {
     "ename": "KeyboardInterrupt",
     "evalue": "",
     "output_type": "error",
     "traceback": [
      "\u001b[0;31m---------------------------------------------------------------------------\u001b[0m",
      "\u001b[0;31mKeyboardInterrupt\u001b[0m                         Traceback (most recent call last)",
      "\u001b[0;32m/var/folders/fb/q0847hz132l4ztpn_6wjzxtw0000gn/T/ipykernel_78415/810574183.py\u001b[0m in \u001b[0;36m<module>\u001b[0;34m\u001b[0m\n\u001b[1;32m     13\u001b[0m         \u001b[0mvar\u001b[0m\u001b[0;34m[\u001b[0m\u001b[0;36m14\u001b[0m\u001b[0;34m]\u001b[0m \u001b[0;34m=\u001b[0m \u001b[0mx2\u001b[0m\u001b[0;34m[\u001b[0m\u001b[0mi\u001b[0m\u001b[0;34m,\u001b[0m\u001b[0mj\u001b[0m\u001b[0;34m]\u001b[0m\u001b[0;34m\u001b[0m\u001b[0;34m\u001b[0m\u001b[0m\n\u001b[1;32m     14\u001b[0m         \u001b[0mvar\u001b[0m \u001b[0;34m=\u001b[0m \u001b[0mvar\u001b[0m\u001b[0;34m.\u001b[0m\u001b[0mreshape\u001b[0m\u001b[0;34m(\u001b[0m\u001b[0;36m1\u001b[0m\u001b[0;34m,\u001b[0m \u001b[0;34m-\u001b[0m\u001b[0;36m1\u001b[0m\u001b[0;34m)\u001b[0m\u001b[0;34m\u001b[0m\u001b[0;34m\u001b[0m\u001b[0m\n\u001b[0;32m---> 15\u001b[0;31m         \u001b[0mscaler\u001b[0m\u001b[0;34m.\u001b[0m\u001b[0mtransform\u001b[0m\u001b[0;34m(\u001b[0m\u001b[0mvar\u001b[0m\u001b[0;34m)\u001b[0m\u001b[0;34m\u001b[0m\u001b[0;34m\u001b[0m\u001b[0m\n\u001b[0m\u001b[1;32m     16\u001b[0m         \u001b[0mp\u001b[0m\u001b[0;34m[\u001b[0m\u001b[0mi\u001b[0m\u001b[0;34m,\u001b[0m\u001b[0mj\u001b[0m\u001b[0;34m]\u001b[0m \u001b[0;34m=\u001b[0m \u001b[0mann\u001b[0m\u001b[0;34m.\u001b[0m\u001b[0mpredict\u001b[0m\u001b[0;34m(\u001b[0m\u001b[0mvar\u001b[0m\u001b[0;34m)\u001b[0m\u001b[0;34m\u001b[0m\u001b[0;34m\u001b[0m\u001b[0m\n\u001b[1;32m     17\u001b[0m \u001b[0;34m\u001b[0m\u001b[0m\n",
      "\u001b[0;32m/usr/local/lib/python3.9/site-packages/sklearn/preprocessing/_data.py\u001b[0m in \u001b[0;36mtransform\u001b[0;34m(self, X, copy)\u001b[0m\n\u001b[1;32m    970\u001b[0m             \u001b[0mTransformed\u001b[0m \u001b[0marray\u001b[0m\u001b[0;34m.\u001b[0m\u001b[0;34m\u001b[0m\u001b[0;34m\u001b[0m\u001b[0m\n\u001b[1;32m    971\u001b[0m         \"\"\"\n\u001b[0;32m--> 972\u001b[0;31m         \u001b[0mcheck_is_fitted\u001b[0m\u001b[0;34m(\u001b[0m\u001b[0mself\u001b[0m\u001b[0;34m)\u001b[0m\u001b[0;34m\u001b[0m\u001b[0;34m\u001b[0m\u001b[0m\n\u001b[0m\u001b[1;32m    973\u001b[0m \u001b[0;34m\u001b[0m\u001b[0m\n\u001b[1;32m    974\u001b[0m         \u001b[0mcopy\u001b[0m \u001b[0;34m=\u001b[0m \u001b[0mcopy\u001b[0m \u001b[0;32mif\u001b[0m \u001b[0mcopy\u001b[0m \u001b[0;32mis\u001b[0m \u001b[0;32mnot\u001b[0m \u001b[0;32mNone\u001b[0m \u001b[0;32melse\u001b[0m \u001b[0mself\u001b[0m\u001b[0;34m.\u001b[0m\u001b[0mcopy\u001b[0m\u001b[0;34m\u001b[0m\u001b[0;34m\u001b[0m\u001b[0m\n",
      "\u001b[0;32m/usr/local/lib/python3.9/site-packages/sklearn/utils/validation.py\u001b[0m in \u001b[0;36mcheck_is_fitted\u001b[0;34m(estimator, attributes, msg, all_or_any)\u001b[0m\n\u001b[1;32m   1339\u001b[0m     \u001b[0;32melse\u001b[0m\u001b[0;34m:\u001b[0m\u001b[0;34m\u001b[0m\u001b[0;34m\u001b[0m\u001b[0m\n\u001b[1;32m   1340\u001b[0m         fitted = [\n\u001b[0;32m-> 1341\u001b[0;31m             \u001b[0mv\u001b[0m \u001b[0;32mfor\u001b[0m \u001b[0mv\u001b[0m \u001b[0;32min\u001b[0m \u001b[0mvars\u001b[0m\u001b[0;34m(\u001b[0m\u001b[0mestimator\u001b[0m\u001b[0;34m)\u001b[0m \u001b[0;32mif\u001b[0m \u001b[0mv\u001b[0m\u001b[0;34m.\u001b[0m\u001b[0mendswith\u001b[0m\u001b[0;34m(\u001b[0m\u001b[0;34m\"_\"\u001b[0m\u001b[0;34m)\u001b[0m \u001b[0;32mand\u001b[0m \u001b[0;32mnot\u001b[0m \u001b[0mv\u001b[0m\u001b[0;34m.\u001b[0m\u001b[0mstartswith\u001b[0m\u001b[0;34m(\u001b[0m\u001b[0;34m\"__\"\u001b[0m\u001b[0;34m)\u001b[0m\u001b[0;34m\u001b[0m\u001b[0;34m\u001b[0m\u001b[0m\n\u001b[0m\u001b[1;32m   1342\u001b[0m         ]\n\u001b[1;32m   1343\u001b[0m \u001b[0;34m\u001b[0m\u001b[0m\n",
      "\u001b[0;31mKeyboardInterrupt\u001b[0m: "
     ]
    }
   ],
   "source": [
    "lats = np.arange(np.min(X[:,13]), np.max(X[:,13]), np.abs(np.min(X[:,13]) - np.max(X[:,13]))/1000)\n",
    "lons = np.arange(np.min(X[:,14]), np.max(X[:,14]), np.abs(np.min(X[:,14]) - np.max(X[:,14]))/1000)\n",
    "\n",
    "x1, x2 = np.meshgrid(lats, lons)\n",
    "\n",
    "p = np.empty(x1.shape)\n",
    "\n",
    "for i in range(x1.shape[0]):\n",
    "    for j in range(x1.shape[1]):\n",
    "        var = np.empty((15,))\n",
    "        var[0:13] = means\n",
    "        var[13] = x1[i,j]\n",
    "        var[14] = x2[i,j]\n",
    "        var = var.reshape(1, -1)\n",
    "        scaler.transform(var)\n",
    "        p[i,j] = ann.predict(var)\n",
    "\n",
    "fig, ax = plt.subplots(1, 1)\n",
    "ax.pcolormesh(x1, x2, p)"
   ]
  },
  {
   "cell_type": "code",
   "execution_count": 28,
   "id": "c42710e9",
   "metadata": {
    "scrolled": true
   },
   "outputs": [
    {
     "name": "stderr",
     "output_type": "stream",
     "text": [
      "/usr/local/lib/python3.9/site-packages/sklearn/neural_network/_multilayer_perceptron.py:702: ConvergenceWarning: Stochastic Optimizer: Maximum iterations (1) reached and the optimization hasn't converged yet.\n",
      "  warnings.warn(\n"
     ]
    },
    {
     "name": "stdout",
     "output_type": "stream",
     "text": [
      "Final train/test scores: -0.003300063588347779 -0.010105458785838461\n"
     ]
    }
   ],
   "source": [
    "# initiate and train loop\n",
    "epochs = 1000\n",
    "params = {\n",
    "    'hidden_layer_sizes':(1000,1000,1000),\n",
    "    'activation':'relu',\n",
    "    'learning_rate_init':0.001,\n",
    "    'random_state':0,\n",
    "    'max_iter':1,\n",
    "    'warm_start':True,\n",
    "    'alpha':0.0001,\n",
    "         }\n",
    "\n",
    "ann = MLPRegressor(**params)\n",
    "\n",
    "training_scores = []\n",
    "testing_scores = []\n",
    "for epoch in range(epochs):\n",
    "    ann.fit(X_train[:,13:15], y_train)\n",
    "    training_scores.append(ann.score(X_train[:,13:15], y_train))\n",
    "    testing_scores.append(ann.score(X_test[:,13:15], y_test))\n",
    "\n",
    "print(\"Final train/test scores:\", training_scores[-1], testing_scores[-1])"
   ]
  },
  {
   "cell_type": "code",
   "execution_count": 803,
   "id": "1d64c209",
   "metadata": {
    "scrolled": true
   },
   "outputs": [
    {
     "name": "stderr",
     "output_type": "stream",
     "text": [
      "/var/folders/fb/q0847hz132l4ztpn_6wjzxtw0000gn/T/ipykernel_78415/319342770.py:19: MatplotlibDeprecationWarning: shading='flat' when X and Y have the same dimensions as C is deprecated since 3.3.  Either specify the corners of the quadrilaterals with X and Y, or pass shading='auto', 'nearest' or 'gouraud', or set rcParams['pcolor.shading'].  This will become an error two minor releases later.\n",
      "  ax.pcolormesh(x1, x2, p)\n"
     ]
    },
    {
     "data": {
      "text/plain": [
       "<matplotlib.collections.QuadMesh at 0x135b272e0>"
      ]
     },
     "execution_count": 803,
     "metadata": {},
     "output_type": "execute_result"
    },
    {
     "data": {
      "image/png": "[encoded data removed]",
      "text/plain": [
       "<Figure size 432x288 with 1 Axes>"
      ]
     },
     "metadata": {
      "needs_background": "light"
     },
     "output_type": "display_data"
    }
   ],
   "source": [
    "lats = np.arange(np.min(X[:,13]), np.max(X[:,13]), np.abs(np.min(X[:,13]) - np.max(X[:,13]))/100)\n",
    "lons = np.arange(np.min(X[:,14]), np.max(X[:,14]), np.abs(np.min(X[:,14]) - np.max(X[:,14]))/100)\n",
    "\n",
    "x1, x2 = np.meshgrid(lats, lons)\n",
    "\n",
    "p = np.empty(x1.shape)\n",
    "\n",
    "for i in range(x1.shape[0]):\n",
    "    for j in range(x1.shape[1]):\n",
    "        var = np.empty((15,))\n",
    "        var[0:13] = means\n",
    "        var[13] = x1[i,j]\n",
    "        var[14] = x2[i,j]\n",
    "        var = var.reshape(1, -1)\n",
    "        scaler.transform(var)\n",
    "        p[i,j] = ann.predict(var[:,13:15])\n",
    "\n",
    "fig, ax = plt.subplots(1, 1)\n",
    "ax.pcolormesh(x1, x2, p)"
   ]
  },
  {
   "cell_type": "code",
   "execution_count": 28,
   "id": "c6127598",
   "metadata": {},
   "outputs": [
    {
     "ename": "ValueError",
     "evalue": "not enough values to unpack (expected 2, got 1)",
     "output_type": "error",
     "traceback": [
      "\u001b[0;31m---------------------------------------------------------------------------\u001b[0m",
      "\u001b[0;31mValueError\u001b[0m                                Traceback (most recent call last)",
      "\u001b[0;32m/var/folders/fb/q0847hz132l4ztpn_6wjzxtw0000gn/T/ipykernel_22203/3041589790.py\u001b[0m in \u001b[0;36m<module>\u001b[0;34m\u001b[0m\n\u001b[1;32m      5\u001b[0m \u001b[0;34m\u001b[0m\u001b[0m\n\u001b[1;32m      6\u001b[0m \u001b[0mfig\u001b[0m\u001b[0;34m,\u001b[0m \u001b[0max\u001b[0m \u001b[0;34m=\u001b[0m \u001b[0mplt\u001b[0m\u001b[0;34m.\u001b[0m\u001b[0msubplots\u001b[0m\u001b[0;34m(\u001b[0m\u001b[0;36m1\u001b[0m\u001b[0;34m,\u001b[0m \u001b[0;36m1\u001b[0m\u001b[0;34m)\u001b[0m\u001b[0;34m\u001b[0m\u001b[0;34m\u001b[0m\u001b[0m\n\u001b[0;32m----> 7\u001b[0;31m \u001b[0max\u001b[0m\u001b[0;34m.\u001b[0m\u001b[0mpcolormesh\u001b[0m\u001b[0;34m(\u001b[0m\u001b[0mx1\u001b[0m\u001b[0;34m,\u001b[0m \u001b[0mx2\u001b[0m\u001b[0;34m,\u001b[0m \u001b[0my\u001b[0m\u001b[0;34m)\u001b[0m\u001b[0;34m\u001b[0m\u001b[0;34m\u001b[0m\u001b[0m\n\u001b[0m",
      "\u001b[0;32m/usr/local/lib/python3.9/site-packages/matplotlib/__init__.py\u001b[0m in \u001b[0;36minner\u001b[0;34m(ax, data, *args, **kwargs)\u001b[0m\n\u001b[1;32m   1359\u001b[0m     \u001b[0;32mdef\u001b[0m \u001b[0minner\u001b[0m\u001b[0;34m(\u001b[0m\u001b[0max\u001b[0m\u001b[0;34m,\u001b[0m \u001b[0;34m*\u001b[0m\u001b[0margs\u001b[0m\u001b[0;34m,\u001b[0m \u001b[0mdata\u001b[0m\u001b[0;34m=\u001b[0m\u001b[0;32mNone\u001b[0m\u001b[0;34m,\u001b[0m \u001b[0;34m**\u001b[0m\u001b[0mkwargs\u001b[0m\u001b[0;34m)\u001b[0m\u001b[0;34m:\u001b[0m\u001b[0;34m\u001b[0m\u001b[0;34m\u001b[0m\u001b[0m\n\u001b[1;32m   1360\u001b[0m         \u001b[0;32mif\u001b[0m \u001b[0mdata\u001b[0m \u001b[0;32mis\u001b[0m \u001b[0;32mNone\u001b[0m\u001b[0;34m:\u001b[0m\u001b[0;34m\u001b[0m\u001b[0;34m\u001b[0m\u001b[0m\n\u001b[0;32m-> 1361\u001b[0;31m             \u001b[0;32mreturn\u001b[0m \u001b[0mfunc\u001b[0m\u001b[0;34m(\u001b[0m\u001b[0max\u001b[0m\u001b[0;34m,\u001b[0m \u001b[0;34m*\u001b[0m\u001b[0mmap\u001b[0m\u001b[0;34m(\u001b[0m\u001b[0msanitize_sequence\u001b[0m\u001b[0;34m,\u001b[0m \u001b[0margs\u001b[0m\u001b[0;34m)\u001b[0m\u001b[0;34m,\u001b[0m \u001b[0;34m**\u001b[0m\u001b[0mkwargs\u001b[0m\u001b[0;34m)\u001b[0m\u001b[0;34m\u001b[0m\u001b[0;34m\u001b[0m\u001b[0m\n\u001b[0m\u001b[1;32m   1362\u001b[0m \u001b[0;34m\u001b[0m\u001b[0m\n\u001b[1;32m   1363\u001b[0m         \u001b[0mbound\u001b[0m \u001b[0;34m=\u001b[0m \u001b[0mnew_sig\u001b[0m\u001b[0;34m.\u001b[0m\u001b[0mbind\u001b[0m\u001b[0;34m(\u001b[0m\u001b[0max\u001b[0m\u001b[0;34m,\u001b[0m \u001b[0;34m*\u001b[0m\u001b[0margs\u001b[0m\u001b[0;34m,\u001b[0m \u001b[0;34m**\u001b[0m\u001b[0mkwargs\u001b[0m\u001b[0;34m)\u001b[0m\u001b[0;34m\u001b[0m\u001b[0;34m\u001b[0m\u001b[0m\n",
      "\u001b[0;32m/usr/local/lib/python3.9/site-packages/matplotlib/axes/_axes.py\u001b[0m in \u001b[0;36mpcolormesh\u001b[0;34m(self, alpha, norm, cmap, vmin, vmax, shading, antialiased, *args, **kwargs)\u001b[0m\n\u001b[1;32m   6181\u001b[0m         \u001b[0mkwargs\u001b[0m\u001b[0;34m.\u001b[0m\u001b[0msetdefault\u001b[0m\u001b[0;34m(\u001b[0m\u001b[0;34m'edgecolors'\u001b[0m\u001b[0;34m,\u001b[0m \u001b[0;34m'none'\u001b[0m\u001b[0;34m)\u001b[0m\u001b[0;34m\u001b[0m\u001b[0;34m\u001b[0m\u001b[0m\n\u001b[1;32m   6182\u001b[0m \u001b[0;34m\u001b[0m\u001b[0m\n\u001b[0;32m-> 6183\u001b[0;31m         X, Y, C, shading = self._pcolorargs('pcolormesh', *args,\n\u001b[0m\u001b[1;32m   6184\u001b[0m                                             shading=shading, kwargs=kwargs)\n\u001b[1;32m   6185\u001b[0m         \u001b[0mNy\u001b[0m\u001b[0;34m,\u001b[0m \u001b[0mNx\u001b[0m \u001b[0;34m=\u001b[0m \u001b[0mX\u001b[0m\u001b[0;34m.\u001b[0m\u001b[0mshape\u001b[0m\u001b[0;34m\u001b[0m\u001b[0;34m\u001b[0m\u001b[0m\n",
      "\u001b[0;32m/usr/local/lib/python3.9/site-packages/matplotlib/axes/_axes.py\u001b[0m in \u001b[0;36m_pcolorargs\u001b[0;34m(self, funcname, shading, *args, **kwargs)\u001b[0m\n\u001b[1;32m   5669\u001b[0m                 \u001b[0;32mif\u001b[0m \u001b[0misinstance\u001b[0m\u001b[0;34m(\u001b[0m\u001b[0mY\u001b[0m\u001b[0;34m,\u001b[0m \u001b[0mnp\u001b[0m\u001b[0;34m.\u001b[0m\u001b[0mma\u001b[0m\u001b[0;34m.\u001b[0m\u001b[0mcore\u001b[0m\u001b[0;34m.\u001b[0m\u001b[0mMaskedArray\u001b[0m\u001b[0;34m)\u001b[0m\u001b[0;34m:\u001b[0m\u001b[0;34m\u001b[0m\u001b[0;34m\u001b[0m\u001b[0m\n\u001b[1;32m   5670\u001b[0m                     \u001b[0mY\u001b[0m \u001b[0;34m=\u001b[0m \u001b[0mY\u001b[0m\u001b[0;34m.\u001b[0m\u001b[0mdata\u001b[0m\u001b[0;34m\u001b[0m\u001b[0;34m\u001b[0m\u001b[0m\n\u001b[0;32m-> 5671\u001b[0;31m             \u001b[0mnrows\u001b[0m\u001b[0;34m,\u001b[0m \u001b[0mncols\u001b[0m \u001b[0;34m=\u001b[0m \u001b[0mC\u001b[0m\u001b[0;34m.\u001b[0m\u001b[0mshape\u001b[0m\u001b[0;34m\u001b[0m\u001b[0;34m\u001b[0m\u001b[0m\n\u001b[0m\u001b[1;32m   5672\u001b[0m         \u001b[0;32melse\u001b[0m\u001b[0;34m:\u001b[0m\u001b[0;34m\u001b[0m\u001b[0;34m\u001b[0m\u001b[0m\n\u001b[1;32m   5673\u001b[0m             raise TypeError(f'{funcname}() takes 1 or 3 positional arguments '\n",
      "\u001b[0;31mValueError\u001b[0m: not enough values to unpack (expected 2, got 1)"
     ]
    },
    {
     "data": {
      "image/png": "[encoded data removed]",
      "text/plain": [
       "<Figure size 432x288 with 1 Axes>"
      ]
     },
     "metadata": {
      "needs_background": "light"
     },
     "output_type": "display_data"
    }
   ],
   "source": [
    "lats = np.arange(np.min(X[:,13]), np.max(X[:,13]), np.abs(np.min(X[:,13]) - np.max(X[:,13]))/100)\n",
    "lons = np.arange(np.min(X[:,14]), np.max(X[:,14]), np.abs(np.min(X[:,14]) - np.max(X[:,14]))/100)\n",
    "\n",
    "x1, x2 = np.meshgrid(lats, lons)\n",
    "\n",
    "fig, ax = plt.subplots(1, 1)\n",
    "ax.pcolormesh(x1, x2, y)"
   ]
  },
  {
   "cell_type": "code",
   "execution_count": 27,
   "id": "7e141b4b",
   "metadata": {},
   "outputs": [
    {
     "data": {
      "text/plain": [
       "1"
      ]
     },
     "execution_count": 27,
     "metadata": {},
     "output_type": "execute_result"
    }
   ],
   "source": [
    "(X[:,13]>47.1593242) & (X[:,13]<47.16550295)"
   ]
  },
  {
   "cell_type": "code",
   "execution_count": 38,
   "id": "1fabb385",
   "metadata": {},
   "outputs": [],
   "source": [
    "lats = np.arange(np.min(X[:,13]), np.max(X[:,13]), np.abs(np.min(X[:,13]) - np.max(X[:,13]))/25)\n",
    "lons = np.arange(np.min(X[:,14]), np.max(X[:,14]), np.abs(np.min(X[:,14]) - np.max(X[:,14]))/25)\n",
    "\n",
    "x1, x2 = np.meshgrid(lats, lons)\n",
    "\n",
    "p = np.empty(x1.shape)\n",
    "for i in range(x1.shape[0]-1):\n",
    "    for j in range(x1.shape[1]-1):\n",
    "        p[i,j] = np.mean(y[(X[:,13]>x1[i,j]) & (X[:,14]<x1[i,j+1]) & (X[:,14]>x2[i,j]) & (X[:,14]<x2[i+1,j])])\n",
    "        "
   ]
  },
  {
   "cell_type": "code",
   "execution_count": 40,
   "id": "4c4b3265",
   "metadata": {
    "scrolled": true
   },
   "outputs": [
    {
     "data": {
      "text/plain": [
       "<matplotlib.image.AxesImage at 0x1269caca0>"
      ]
     },
     "execution_count": 40,
     "metadata": {},
     "output_type": "execute_result"
    },
    {
     "data": {
      "image/png": "[encoded data removed]",
      "text/plain": [
       "<Figure size 432x288 with 1 Axes>"
      ]
     },
     "metadata": {
      "needs_background": "light"
     },
     "output_type": "display_data"
    }
   ],
   "source": [
    "plt.imshow(p,origin='lower',interpolation='bilinear')"
   ]
  },
  {
   "cell_type": "code",
   "execution_count": 32,
   "id": "76462b8e",
   "metadata": {},
   "outputs": [
    {
     "data": {
      "image/png": "[encoded data removed]",
      "text/plain": [
       "<Figure size 432x288 with 1 Axes>"
      ]
     },
     "metadata": {
      "needs_background": "light"
     },
     "output_type": "display_data"
    }
   ],
   "source": [
    "plt.hist2d(X[:,14], X[:,13], bins=(50, 50), cmap=plt.cm.jet)\n",
    "plt.show()"
   ]
  },
  {
   "cell_type": "markdown",
   "id": "50dec983",
   "metadata": {},
   "source": [
    "## Boosting"
   ]
  },
  {
   "cell_type": "code",
   "execution_count": 18,
   "id": "c36c7362",
   "metadata": {},
   "outputs": [],
   "source": [
    "from sklearn.ensemble import GradientBoostingRegressor"
   ]
  },
  {
   "cell_type": "code",
   "execution_count": 19,
   "id": "b6df1de2",
   "metadata": {},
   "outputs": [],
   "source": [
    "X_train, X_test, y_train, y_test = train_test_split(X, y, test_size = 0.33, random_state = 2072020)"
   ]
  },
  {
   "cell_type": "code",
   "execution_count": 27,
   "id": "60b56209",
   "metadata": {},
   "outputs": [
    {
     "data": {
      "text/html": [
       "<style>#sk-container-id-3 {color: black;background-color: white;}#sk-container-id-3 pre{padding: 0;}#sk-container-id-3 div.sk-toggleable {background-color: white;}#sk-container-id-3 label.sk-toggleable__label {cursor: pointer;display: block;width: 100%;margin-bottom: 0;padding: 0.3em;box-sizing: border-box;text-align: center;}#sk-container-id-3 label.sk-toggleable__label-arrow:before {content: \"▸\";float: left;margin-right: 0.25em;color: #696969;}#sk-container-id-3 label.sk-toggleable__label-arrow:hover:before {color: black;}#sk-container-id-3 div.sk-estimator:hover label.sk-toggleable__label-arrow:before {color: black;}#sk-container-id-3 div.sk-toggleable__content {max-height: 0;max-width: 0;overflow: hidden;text-align: left;background-color: #f0f8ff;}#sk-container-id-3 div.sk-toggleable__content pre {margin: 0.2em;color: black;border-radius: 0.25em;background-color: #f0f8ff;}#sk-container-id-3 input.sk-toggleable__control:checked~div.sk-toggleable__content {max-height: 200px;max-width: 100%;overflow: auto;}#sk-container-id-3 input.sk-toggleable__control:checked~label.sk-toggleable__label-arrow:before {content: \"▾\";}#sk-container-id-3 div.sk-estimator input.sk-toggleable__control:checked~label.sk-toggleable__label {background-color: #d4ebff;}#sk-container-id-3 div.sk-label input.sk-toggleable__control:checked~label.sk-toggleable__label {background-color: #d4ebff;}#sk-container-id-3 input.sk-hidden--visually {border: 0;clip: rect(1px 1px 1px 1px);clip: rect(1px, 1px, 1px, 1px);height: 1px;margin: -1px;overflow: hidden;padding: 0;position: absolute;width: 1px;}#sk-container-id-3 div.sk-estimator {font-family: monospace;background-color: #f0f8ff;border: 1px dotted black;border-radius: 0.25em;box-sizing: border-box;margin-bottom: 0.5em;}#sk-container-id-3 div.sk-estimator:hover {background-color: #d4ebff;}#sk-container-id-3 div.sk-parallel-item::after {content: \"\";width: 100%;border-bottom: 1px solid gray;flex-grow: 1;}#sk-container-id-3 div.sk-label:hover label.sk-toggleable__label {background-color: #d4ebff;}#sk-container-id-3 div.sk-serial::before {content: \"\";position: absolute;border-left: 1px solid gray;box-sizing: border-box;top: 0;bottom: 0;left: 50%;z-index: 0;}#sk-container-id-3 div.sk-serial {display: flex;flex-direction: column;align-items: center;background-color: white;padding-right: 0.2em;padding-left: 0.2em;position: relative;}#sk-container-id-3 div.sk-item {position: relative;z-index: 1;}#sk-container-id-3 div.sk-parallel {display: flex;align-items: stretch;justify-content: center;background-color: white;position: relative;}#sk-container-id-3 div.sk-item::before, #sk-container-id-3 div.sk-parallel-item::before {content: \"\";position: absolute;border-left: 1px solid gray;box-sizing: border-box;top: 0;bottom: 0;left: 50%;z-index: -1;}#sk-container-id-3 div.sk-parallel-item {display: flex;flex-direction: column;z-index: 1;position: relative;background-color: white;}#sk-container-id-3 div.sk-parallel-item:first-child::after {align-self: flex-end;width: 50%;}#sk-container-id-3 div.sk-parallel-item:last-child::after {align-self: flex-start;width: 50%;}#sk-container-id-3 div.sk-parallel-item:only-child::after {width: 0;}#sk-container-id-3 div.sk-dashed-wrapped {border: 1px dashed gray;margin: 0 0.4em 0.5em 0.4em;box-sizing: border-box;padding-bottom: 0.4em;background-color: white;}#sk-container-id-3 div.sk-label label {font-family: monospace;font-weight: bold;display: inline-block;line-height: 1.2em;}#sk-container-id-3 div.sk-label-container {text-align: center;}#sk-container-id-3 div.sk-container {/* jupyter's `normalize.less` sets `[hidden] { display: none; }` but bootstrap.min.css set `[hidden] { display: none !important; }` so we also need the `!important` here to be able to override the default hidden behavior on the sphinx rendered scikit-learn.org. See: https://github.com/scikit-learn/scikit-learn/issues/21755 */display: inline-block !important;position: relative;}#sk-container-id-3 div.sk-text-repr-fallback {display: none;}</style><div id=\"sk-container-id-3\" class=\"sk-top-container\"><div class=\"sk-text-repr-fallback\"><pre>GradientBoostingRegressor(learning_rate=0.01, max_depth=5, min_samples_split=5,\n",
       "                          n_estimators=1000)</pre><b>In a Jupyter environment, please rerun this cell to show the HTML representation or trust the notebook. <br />On GitHub, the HTML representation is unable to render, please try loading this page with nbviewer.org.</b></div><div class=\"sk-container\" hidden><div class=\"sk-item\"><div class=\"sk-estimator sk-toggleable\"><input class=\"sk-toggleable__control sk-hidden--visually\" id=\"sk-estimator-id-3\" type=\"checkbox\" checked><label for=\"sk-estimator-id-3\" class=\"sk-toggleable__label sk-toggleable__label-arrow\">GradientBoostingRegressor</label><div class=\"sk-toggleable__content\"><pre>GradientBoostingRegressor(learning_rate=0.01, max_depth=5, min_samples_split=5,\n",
       "                          n_estimators=1000)</pre></div></div></div></div></div>"
      ],
      "text/plain": [
       "GradientBoostingRegressor(learning_rate=0.01, max_depth=5, min_samples_split=5,\n",
       "                          n_estimators=1000)"
      ]
     },
     "execution_count": 27,
     "metadata": {},
     "output_type": "execute_result"
    }
   ],
   "source": [
    "params = {\n",
    "    \"n_estimators\": 1000,\n",
    "    \"max_depth\": 5,\n",
    "    \"min_samples_split\": 5,\n",
    "    \"learning_rate\": 0.01,\n",
    "    \"loss\": \"squared_error\",\n",
    "}\n",
    "\n",
    "reg = GradientBoostingRegressor(**params).fit(X_train, y_train)\n",
    "reg.fit(X_train, y_train)"
   ]
  },
  {
   "cell_type": "code",
   "execution_count": 28,
   "id": "757fc266",
   "metadata": {},
   "outputs": [],
   "source": [
    "train_score = np.zeros((params[\"n_estimators\"],), dtype=np.float64)\n",
    "test_score = np.zeros((params[\"n_estimators\"],), dtype=np.float64)\n",
    "for i, y_pred in enumerate(reg.staged_predict(X_test)):\n",
    "    test_score[i] = r2_score(y_test, y_pred)\n",
    "for i, y_pred in enumerate(reg.staged_predict(X_train)):\n",
    "    train_score[i] = r2_score(y_train, y_pred)"
   ]
  },
  {
   "cell_type": "code",
   "execution_count": 29,
   "id": "84d8c559",
   "metadata": {},
   "outputs": [
    {
     "data": {
      "image/png": "[encoded data removed]",
      "text/plain": [
       "<Figure size 432x432 with 1 Axes>"
      ]
     },
     "metadata": {
      "needs_background": "light"
     },
     "output_type": "display_data"
    }
   ],
   "source": [
    "fig = plt.figure(figsize=(6, 6))\n",
    "plt.subplot(1, 1, 1)\n",
    "plt.title(\"Gradient Boosted Regression Learning\")\n",
    "plt.plot(\n",
    "    np.arange(params[\"n_estimators\"]) + 1,\n",
    "    train_score,\n",
    "    label=\"Training Set r2\",\n",
    ")\n",
    "plt.plot(\n",
    "    np.arange(params[\"n_estimators\"]) + 1, test_score, label=\"Test Set r2\"\n",
    ")\n",
    "plt.legend(loc=\"upper right\")\n",
    "plt.xlabel(\"Boosting Iterations\")\n",
    "plt.ylabel(\"r2\")\n",
    "fig.tight_layout()\n",
    "plt.savefig('./paper/figures/boost_r2.png', format='png', transparent=True)\n",
    "plt.show()"
   ]
  },
  {
   "cell_type": "code",
   "execution_count": 23,
   "id": "ba1a2c27",
   "metadata": {},
   "outputs": [
    {
     "data": {
      "text/plain": [
       "(0.7695973764316298, 0.7765821843608173)"
      ]
     },
     "execution_count": 23,
     "metadata": {},
     "output_type": "execute_result"
    }
   ],
   "source": [
    "r2_score(y_test, reg.predict(X_test)), r2_score(y_val, reg.predict(X_val))"
   ]
  },
  {
   "cell_type": "markdown",
   "id": "9d53f805",
   "metadata": {},
   "source": [
    "### Support Vector Machines"
   ]
  },
  {
   "cell_type": "code",
   "execution_count": 44,
   "id": "9a235773",
   "metadata": {},
   "outputs": [],
   "source": [
    "from sklearn import svm\n",
    "from sklearn.model_selection import GridSearchCV\n",
    "from sklearn.preprocessing import StandardScaler  "
   ]
  },
  {
   "cell_type": "code",
   "execution_count": 45,
   "id": "bcf25202",
   "metadata": {},
   "outputs": [],
   "source": [
    "X_train, X_test, y_train, y_test = train_test_split(X, y, test_size = 0.33, random_state = 2072020)"
   ]
  },
  {
   "cell_type": "code",
   "execution_count": 46,
   "id": "22836eb1",
   "metadata": {},
   "outputs": [],
   "source": [
    "def plot_learning(val = 'roc_auc', x = 'max depth'):\n",
    "    D = eval(val)\n",
    "    depths = sorted(D.keys())\n",
    "    train_scores = [value[0] for key, value in D.items()]\n",
    "    test_scores = [value[1] for key, value in D.items()]\n",
    "    \n",
    "    \n",
    "    fig, ax = plt.subplots()\n",
    "    ax.set_xlabel(x)\n",
    "    ax.set_ylabel(val)\n",
    "    ax.set_title(val + \" vs \" + x + \" for training and testing sets\")\n",
    "    ax.plot(depths, train_scores, marker=\"o\", label=\"train\", drawstyle=\"steps-post\")\n",
    "    ax.plot(depths, test_scores, marker=\"o\", label=\"test\", drawstyle=\"steps-post\")\n",
    "    ax.legend()\n",
    "    return plt"
   ]
  },
  {
   "cell_type": "code",
   "execution_count": 47,
   "id": "c3a74046",
   "metadata": {},
   "outputs": [],
   "source": [
    "# scale the data\n",
    "scaler = StandardScaler() \n",
    "scaler.fit(X_train)\n",
    "X_train = scaler.transform(X_train)\n",
    "X_test = scaler.transform(X_test)\n",
    "X_val_scaled = scaler.transform(X_val)\n",
    "X_scaled = scaler.transform(X)"
   ]
  },
  {
   "cell_type": "code",
   "execution_count": 48,
   "id": "b9c12cd3",
   "metadata": {},
   "outputs": [
    {
     "name": "stdout",
     "output_type": "stream",
     "text": [
      "Training roc_auc, test roc_auc:\n",
      "-0.00494462275775942 -0.033492126944684175\n"
     ]
    }
   ],
   "source": [
    "params = {'kernel':'poly','degree':5, 'C':10,'gamma':'auto'}\n",
    "\n",
    "clf = svm.SVR(**params)\n",
    "\n",
    "clf.fit(X_train, y_train)\n",
    "pred_y = clf.predict(X_train)\n",
    "pred_y_test = clf.predict(X_test)\n",
    "print(\"Training roc_auc, test roc_auc:\")\n",
    "print(r2_score(y_train, pred_y), r2_score(y_test, pred_y_test))"
   ]
  },
  {
   "cell_type": "code",
   "execution_count": 49,
   "id": "84e2e389",
   "metadata": {},
   "outputs": [
    {
     "name": "stdout",
     "output_type": "stream",
     "text": [
      "Training roc_auc, test roc_auc:\n",
      "-0.013161554488895444 -0.03026871273395315\n"
     ]
    }
   ],
   "source": [
    "params = {'kernel':'rbf', 'C':100,'gamma':'auto'}\n",
    "\n",
    "clf = svm.SVR(**params)\n",
    "\n",
    "clf.fit(X_train, y_train)\n",
    "pred_y = clf.predict(X_train)\n",
    "pred_y_test = clf.predict(X_test)\n",
    "print(\"Training roc_auc, test roc_auc:\")\n",
    "print(r2_score(y_train, pred_y), r2_score(y_test, pred_y_test))"
   ]
  },
  {
   "cell_type": "code",
   "execution_count": 50,
   "id": "2bf815b5",
   "metadata": {},
   "outputs": [
    {
     "data": {
      "image/png": "[encoded data removed]",
      "text/plain": [
       "<Figure size 432x288 with 1 Axes>"
      ]
     },
     "metadata": {
      "needs_background": "light"
     },
     "output_type": "display_data"
    }
   ],
   "source": [
    "params = {'kernel':'poly','degree':5, 'C':1,'gamma':'auto'}\n",
    "\n",
    "n_splits = 5\n",
    "n = X_train.shape[0] // n_splits\n",
    "ind = [i*n for i in range(5)]\n",
    "ind.reverse()\n",
    "r2 = {}\n",
    "for i in range(n_splits):\n",
    "    ix = [j >= ind[i] for j in range(X_train.shape[0])]\n",
    "    X_train_i = X_train[ix]\n",
    "    y_train_i = y_train[ix]\n",
    "    clf = svm.SVR(**params)\n",
    "    clf.fit(X_train_i, y_train_i)\n",
    "    pred_y_test = clf.predict(X_test)\n",
    "    pred_y_i = clf.predict(X_train_i)\n",
    "    auc[ind[i]+n] = r2_score(y_train_i, pred_y_i), r2_score(y_test, pred_y_test) \n",
    "plt = plot_learning('r2', x=\"training data\")\n",
    "plt.savefig('./paper/figures/house_svm_learn_r2_data.png', format='png', transparent=True)\n",
    "plt.show()"
   ]
  },
  {
   "cell_type": "code",
   "execution_count": 12,
   "id": "6e76307b",
   "metadata": {},
   "outputs": [
    {
     "data": {
      "text/plain": [
       "['mean_fit_time',\n",
       " 'mean_score_time',\n",
       " 'mean_test_score',\n",
       " 'param_C',\n",
       " 'param_epsilon',\n",
       " 'param_gamma',\n",
       " 'param_kernel',\n",
       " 'params',\n",
       " 'rank_test_score',\n",
       " 'split0_test_score',\n",
       " 'split1_test_score',\n",
       " 'split2_test_score',\n",
       " 'split3_test_score',\n",
       " 'split4_test_score',\n",
       " 'std_fit_time',\n",
       " 'std_score_time',\n",
       " 'std_test_score']"
      ]
     },
     "execution_count": 12,
     "metadata": {},
     "output_type": "execute_result"
    }
   ],
   "source": [
    "scaler = StandardScaler() \n",
    "scaler.fit(X)\n",
    "X_scaled = scaler.transform(X)\n",
    "\n",
    "parameters = {'kernel':('linear', 'rbf','poly'), 'C':[1, 10, 100],'gamma':('auto','scale'),\n",
    "             'epsilon':[0.001,.01,.1,.5]}\n",
    "\n",
    "reg = svm.SVR()\n",
    "clf = GridSearchCV(reg, parameters)\n",
    "clf.fit(X_scaled, y)\n",
    "sorted(clf.cv_results_.keys())"
   ]
  },
  {
   "cell_type": "code",
   "execution_count": 17,
   "id": "85a1abe1",
   "metadata": {},
   "outputs": [
    {
     "data": {
      "text/plain": [
       "{'mean_fit_time': array([0.18502107, 0.25257459, 0.19444146, 0.17775245, 0.25251274,\n",
       "        0.19331222, 0.17833176, 0.26266022, 0.1937191 , 0.18710718,\n",
       "        0.25400577, 0.20184746, 0.17828345, 0.25160379, 0.19622121,\n",
       "        0.17779784, 0.25221386, 0.1944828 , 0.17883067, 0.25269561,\n",
       "        0.19437022, 0.17980499, 0.25381756, 0.19380398, 0.17720723,\n",
       "        0.25232153, 0.19416037, 0.1762527 , 0.25306969, 0.19448032,\n",
       "        0.17666373, 0.25101705, 0.19492083, 0.17517142, 0.25222926,\n",
       "        0.19525485, 0.17651024, 0.25301552, 0.19514055, 0.18131022,\n",
       "        0.25709424, 0.1954566 , 0.17603683, 0.25416985, 0.19447913,\n",
       "        0.17541394, 0.25647297, 0.19854765, 0.17684312, 0.25673037,\n",
       "        0.20348306, 0.17632356, 0.25637636, 0.20649557, 0.17515903,\n",
       "        0.25184398, 0.19715724, 0.17405486, 0.25430841, 0.19689741,\n",
       "        0.17509093, 0.25291872, 0.19734101, 0.17418828, 0.25397153,\n",
       "        0.2005559 , 0.17415109, 0.25213118, 0.1977428 , 0.17213244,\n",
       "        0.25245023, 0.19697118]),\n",
       " 'std_fit_time': array([0.00876388, 0.00208797, 0.00083016, 0.00293454, 0.00227216,\n",
       "        0.00154865, 0.00220983, 0.01564621, 0.00179353, 0.01223866,\n",
       "        0.00126169, 0.00832796, 0.00393071, 0.00156783, 0.00201011,\n",
       "        0.00087808, 0.00261872, 0.00166781, 0.00180177, 0.00186625,\n",
       "        0.00204594, 0.00233319, 0.00187553, 0.00263939, 0.00194135,\n",
       "        0.00252127, 0.00182978, 0.00159634, 0.00317473, 0.00088253,\n",
       "        0.00094855, 0.00197234, 0.00245917, 0.00104092, 0.00133981,\n",
       "        0.00105742, 0.00139745, 0.00152442, 0.00150181, 0.005544  ,\n",
       "        0.00605726, 0.00130739, 0.00140066, 0.00296253, 0.00135135,\n",
       "        0.00019099, 0.00397328, 0.00093807, 0.00136526, 0.00187942,\n",
       "        0.00355982, 0.00114211, 0.00050272, 0.01073372, 0.00418847,\n",
       "        0.00260869, 0.00167502, 0.00266897, 0.00326715, 0.00111688,\n",
       "        0.00324189, 0.00226854, 0.00232257, 0.00258675, 0.00280738,\n",
       "        0.00107762, 0.00320049, 0.00322749, 0.00127282, 0.00059394,\n",
       "        0.00307367, 0.00260018]),\n",
       " 'mean_score_time': array([0.0346642 , 0.13914714, 0.037675  , 0.03404551, 0.1384408 ,\n",
       "        0.03789439, 0.03370147, 0.13899498, 0.03781691, 0.03480792,\n",
       "        0.1374464 , 0.03811684, 0.03385339, 0.13677793, 0.03822198,\n",
       "        0.03347521, 0.13659472, 0.03799553, 0.0342041 , 0.13745737,\n",
       "        0.03897238, 0.03401861, 0.137784  , 0.03756967, 0.03376217,\n",
       "        0.13674669, 0.03801956, 0.03361802, 0.13715816, 0.03740396,\n",
       "        0.03447723, 0.13766279, 0.03774252, 0.0335506 , 0.1366775 ,\n",
       "        0.03852682, 0.03430924, 0.13747444, 0.03737392, 0.03458099,\n",
       "        0.13632874, 0.03754778, 0.03387461, 0.13828683, 0.03841386,\n",
       "        0.03365788, 0.13802667, 0.03834929, 0.0349194 , 0.14064341,\n",
       "        0.03871961, 0.03458633, 0.13962631, 0.03846202, 0.03421388,\n",
       "        0.136729  , 0.03831978, 0.033568  , 0.13705435, 0.03758173,\n",
       "        0.03378615, 0.13576446, 0.0385746 , 0.03369975, 0.13754978,\n",
       "        0.03788567, 0.03416033, 0.13665409, 0.03759789, 0.03400488,\n",
       "        0.13760581, 0.03876538]),\n",
       " 'std_score_time': array([7.11421199e-04, 2.81118746e-03, 2.40127286e-04, 8.59265883e-04,\n",
       "        1.57128249e-03, 9.47706008e-04, 2.90308644e-04, 3.85592561e-03,\n",
       "        4.88683104e-04, 1.72207431e-03, 8.52258884e-04, 1.05230569e-03,\n",
       "        6.27174664e-04, 7.64105627e-04, 1.25767493e-03, 2.56731774e-04,\n",
       "        4.58388607e-04, 4.07151517e-04, 7.91256827e-04, 5.79863296e-04,\n",
       "        1.30024845e-03, 7.94448165e-04, 1.12788377e-03, 2.17049423e-04,\n",
       "        2.06078980e-04, 1.39108220e-03, 6.24692505e-04, 9.77680611e-05,\n",
       "        1.03769364e-03, 1.68269651e-04, 7.68582885e-04, 1.46924656e-03,\n",
       "        3.33224833e-04, 3.82148990e-04, 1.17340947e-03, 1.11102913e-03,\n",
       "        6.69545842e-04, 9.87184115e-04, 4.73539393e-05, 6.12052756e-04,\n",
       "        1.13213235e-03, 2.49704846e-04, 6.53302888e-04, 8.86087658e-04,\n",
       "        8.97750077e-04, 2.59150735e-04, 1.80915393e-03, 1.51868001e-04,\n",
       "        8.20714763e-04, 1.73532065e-03, 3.27836189e-04, 1.78822301e-04,\n",
       "        1.60878347e-03, 5.04600553e-04, 6.77301816e-04, 4.67815723e-04,\n",
       "        9.57534338e-04, 4.75181868e-04, 1.66515540e-03, 2.95880027e-04,\n",
       "        3.03262682e-04, 4.20167534e-04, 8.23405114e-04, 4.03997788e-04,\n",
       "        1.88051882e-03, 3.94837896e-04, 1.21031504e-03, 9.37958270e-04,\n",
       "        7.02378059e-05, 3.54276416e-04, 8.52604915e-04, 1.13499751e-03]),\n",
       " 'param_C': masked_array(data=[1, 1, 1, 1, 1, 1, 1, 1, 1, 1, 1, 1, 1, 1, 1, 1, 1, 1,\n",
       "                    1, 1, 1, 1, 1, 1, 10, 10, 10, 10, 10, 10, 10, 10, 10,\n",
       "                    10, 10, 10, 10, 10, 10, 10, 10, 10, 10, 10, 10, 10, 10,\n",
       "                    10, 100, 100, 100, 100, 100, 100, 100, 100, 100, 100,\n",
       "                    100, 100, 100, 100, 100, 100, 100, 100, 100, 100, 100,\n",
       "                    100, 100, 100],\n",
       "              mask=[False, False, False, False, False, False, False, False,\n",
       "                    False, False, False, False, False, False, False, False,\n",
       "                    False, False, False, False, False, False, False, False,\n",
       "                    False, False, False, False, False, False, False, False,\n",
       "                    False, False, False, False, False, False, False, False,\n",
       "                    False, False, False, False, False, False, False, False,\n",
       "                    False, False, False, False, False, False, False, False,\n",
       "                    False, False, False, False, False, False, False, False,\n",
       "                    False, False, False, False, False, False, False, False],\n",
       "        fill_value='?',\n",
       "             dtype=object),\n",
       " 'param_epsilon': masked_array(data=[0.001, 0.001, 0.001, 0.001, 0.001, 0.001, 0.01, 0.01,\n",
       "                    0.01, 0.01, 0.01, 0.01, 0.1, 0.1, 0.1, 0.1, 0.1, 0.1,\n",
       "                    0.5, 0.5, 0.5, 0.5, 0.5, 0.5, 0.001, 0.001, 0.001,\n",
       "                    0.001, 0.001, 0.001, 0.01, 0.01, 0.01, 0.01, 0.01,\n",
       "                    0.01, 0.1, 0.1, 0.1, 0.1, 0.1, 0.1, 0.5, 0.5, 0.5, 0.5,\n",
       "                    0.5, 0.5, 0.001, 0.001, 0.001, 0.001, 0.001, 0.001,\n",
       "                    0.01, 0.01, 0.01, 0.01, 0.01, 0.01, 0.1, 0.1, 0.1, 0.1,\n",
       "                    0.1, 0.1, 0.5, 0.5, 0.5, 0.5, 0.5, 0.5],\n",
       "              mask=[False, False, False, False, False, False, False, False,\n",
       "                    False, False, False, False, False, False, False, False,\n",
       "                    False, False, False, False, False, False, False, False,\n",
       "                    False, False, False, False, False, False, False, False,\n",
       "                    False, False, False, False, False, False, False, False,\n",
       "                    False, False, False, False, False, False, False, False,\n",
       "                    False, False, False, False, False, False, False, False,\n",
       "                    False, False, False, False, False, False, False, False,\n",
       "                    False, False, False, False, False, False, False, False],\n",
       "        fill_value='?',\n",
       "             dtype=object),\n",
       " 'param_gamma': masked_array(data=['auto', 'auto', 'auto', 'scale', 'scale', 'scale',\n",
       "                    'auto', 'auto', 'auto', 'scale', 'scale', 'scale',\n",
       "                    'auto', 'auto', 'auto', 'scale', 'scale', 'scale',\n",
       "                    'auto', 'auto', 'auto', 'scale', 'scale', 'scale',\n",
       "                    'auto', 'auto', 'auto', 'scale', 'scale', 'scale',\n",
       "                    'auto', 'auto', 'auto', 'scale', 'scale', 'scale',\n",
       "                    'auto', 'auto', 'auto', 'scale', 'scale', 'scale',\n",
       "                    'auto', 'auto', 'auto', 'scale', 'scale', 'scale',\n",
       "                    'auto', 'auto', 'auto', 'scale', 'scale', 'scale',\n",
       "                    'auto', 'auto', 'auto', 'scale', 'scale', 'scale',\n",
       "                    'auto', 'auto', 'auto', 'scale', 'scale', 'scale',\n",
       "                    'auto', 'auto', 'auto', 'scale', 'scale', 'scale'],\n",
       "              mask=[False, False, False, False, False, False, False, False,\n",
       "                    False, False, False, False, False, False, False, False,\n",
       "                    False, False, False, False, False, False, False, False,\n",
       "                    False, False, False, False, False, False, False, False,\n",
       "                    False, False, False, False, False, False, False, False,\n",
       "                    False, False, False, False, False, False, False, False,\n",
       "                    False, False, False, False, False, False, False, False,\n",
       "                    False, False, False, False, False, False, False, False,\n",
       "                    False, False, False, False, False, False, False, False],\n",
       "        fill_value='?',\n",
       "             dtype=object),\n",
       " 'param_kernel': masked_array(data=['linear', 'rbf', 'poly', 'linear', 'rbf', 'poly',\n",
       "                    'linear', 'rbf', 'poly', 'linear', 'rbf', 'poly',\n",
       "                    'linear', 'rbf', 'poly', 'linear', 'rbf', 'poly',\n",
       "                    'linear', 'rbf', 'poly', 'linear', 'rbf', 'poly',\n",
       "                    'linear', 'rbf', 'poly', 'linear', 'rbf', 'poly',\n",
       "                    'linear', 'rbf', 'poly', 'linear', 'rbf', 'poly',\n",
       "                    'linear', 'rbf', 'poly', 'linear', 'rbf', 'poly',\n",
       "                    'linear', 'rbf', 'poly', 'linear', 'rbf', 'poly',\n",
       "                    'linear', 'rbf', 'poly', 'linear', 'rbf', 'poly',\n",
       "                    'linear', 'rbf', 'poly', 'linear', 'rbf', 'poly',\n",
       "                    'linear', 'rbf', 'poly', 'linear', 'rbf', 'poly',\n",
       "                    'linear', 'rbf', 'poly', 'linear', 'rbf', 'poly'],\n",
       "              mask=[False, False, False, False, False, False, False, False,\n",
       "                    False, False, False, False, False, False, False, False,\n",
       "                    False, False, False, False, False, False, False, False,\n",
       "                    False, False, False, False, False, False, False, False,\n",
       "                    False, False, False, False, False, False, False, False,\n",
       "                    False, False, False, False, False, False, False, False,\n",
       "                    False, False, False, False, False, False, False, False,\n",
       "                    False, False, False, False, False, False, False, False,\n",
       "                    False, False, False, False, False, False, False, False],\n",
       "        fill_value='?',\n",
       "             dtype=object),\n",
       " 'params': [{'C': 1, 'epsilon': 0.001, 'gamma': 'auto', 'kernel': 'linear'},\n",
       "  {'C': 1, 'epsilon': 0.001, 'gamma': 'auto', 'kernel': 'rbf'},\n",
       "  {'C': 1, 'epsilon': 0.001, 'gamma': 'auto', 'kernel': 'poly'},\n",
       "  {'C': 1, 'epsilon': 0.001, 'gamma': 'scale', 'kernel': 'linear'},\n",
       "  {'C': 1, 'epsilon': 0.001, 'gamma': 'scale', 'kernel': 'rbf'},\n",
       "  {'C': 1, 'epsilon': 0.001, 'gamma': 'scale', 'kernel': 'poly'},\n",
       "  {'C': 1, 'epsilon': 0.01, 'gamma': 'auto', 'kernel': 'linear'},\n",
       "  {'C': 1, 'epsilon': 0.01, 'gamma': 'auto', 'kernel': 'rbf'},\n",
       "  {'C': 1, 'epsilon': 0.01, 'gamma': 'auto', 'kernel': 'poly'},\n",
       "  {'C': 1, 'epsilon': 0.01, 'gamma': 'scale', 'kernel': 'linear'},\n",
       "  {'C': 1, 'epsilon': 0.01, 'gamma': 'scale', 'kernel': 'rbf'},\n",
       "  {'C': 1, 'epsilon': 0.01, 'gamma': 'scale', 'kernel': 'poly'},\n",
       "  {'C': 1, 'epsilon': 0.1, 'gamma': 'auto', 'kernel': 'linear'},\n",
       "  {'C': 1, 'epsilon': 0.1, 'gamma': 'auto', 'kernel': 'rbf'},\n",
       "  {'C': 1, 'epsilon': 0.1, 'gamma': 'auto', 'kernel': 'poly'},\n",
       "  {'C': 1, 'epsilon': 0.1, 'gamma': 'scale', 'kernel': 'linear'},\n",
       "  {'C': 1, 'epsilon': 0.1, 'gamma': 'scale', 'kernel': 'rbf'},\n",
       "  {'C': 1, 'epsilon': 0.1, 'gamma': 'scale', 'kernel': 'poly'},\n",
       "  {'C': 1, 'epsilon': 0.5, 'gamma': 'auto', 'kernel': 'linear'},\n",
       "  {'C': 1, 'epsilon': 0.5, 'gamma': 'auto', 'kernel': 'rbf'},\n",
       "  {'C': 1, 'epsilon': 0.5, 'gamma': 'auto', 'kernel': 'poly'},\n",
       "  {'C': 1, 'epsilon': 0.5, 'gamma': 'scale', 'kernel': 'linear'},\n",
       "  {'C': 1, 'epsilon': 0.5, 'gamma': 'scale', 'kernel': 'rbf'},\n",
       "  {'C': 1, 'epsilon': 0.5, 'gamma': 'scale', 'kernel': 'poly'},\n",
       "  {'C': 10, 'epsilon': 0.001, 'gamma': 'auto', 'kernel': 'linear'},\n",
       "  {'C': 10, 'epsilon': 0.001, 'gamma': 'auto', 'kernel': 'rbf'},\n",
       "  {'C': 10, 'epsilon': 0.001, 'gamma': 'auto', 'kernel': 'poly'},\n",
       "  {'C': 10, 'epsilon': 0.001, 'gamma': 'scale', 'kernel': 'linear'},\n",
       "  {'C': 10, 'epsilon': 0.001, 'gamma': 'scale', 'kernel': 'rbf'},\n",
       "  {'C': 10, 'epsilon': 0.001, 'gamma': 'scale', 'kernel': 'poly'},\n",
       "  {'C': 10, 'epsilon': 0.01, 'gamma': 'auto', 'kernel': 'linear'},\n",
       "  {'C': 10, 'epsilon': 0.01, 'gamma': 'auto', 'kernel': 'rbf'},\n",
       "  {'C': 10, 'epsilon': 0.01, 'gamma': 'auto', 'kernel': 'poly'},\n",
       "  {'C': 10, 'epsilon': 0.01, 'gamma': 'scale', 'kernel': 'linear'},\n",
       "  {'C': 10, 'epsilon': 0.01, 'gamma': 'scale', 'kernel': 'rbf'},\n",
       "  {'C': 10, 'epsilon': 0.01, 'gamma': 'scale', 'kernel': 'poly'},\n",
       "  {'C': 10, 'epsilon': 0.1, 'gamma': 'auto', 'kernel': 'linear'},\n",
       "  {'C': 10, 'epsilon': 0.1, 'gamma': 'auto', 'kernel': 'rbf'},\n",
       "  {'C': 10, 'epsilon': 0.1, 'gamma': 'auto', 'kernel': 'poly'},\n",
       "  {'C': 10, 'epsilon': 0.1, 'gamma': 'scale', 'kernel': 'linear'},\n",
       "  {'C': 10, 'epsilon': 0.1, 'gamma': 'scale', 'kernel': 'rbf'},\n",
       "  {'C': 10, 'epsilon': 0.1, 'gamma': 'scale', 'kernel': 'poly'},\n",
       "  {'C': 10, 'epsilon': 0.5, 'gamma': 'auto', 'kernel': 'linear'},\n",
       "  {'C': 10, 'epsilon': 0.5, 'gamma': 'auto', 'kernel': 'rbf'},\n",
       "  {'C': 10, 'epsilon': 0.5, 'gamma': 'auto', 'kernel': 'poly'},\n",
       "  {'C': 10, 'epsilon': 0.5, 'gamma': 'scale', 'kernel': 'linear'},\n",
       "  {'C': 10, 'epsilon': 0.5, 'gamma': 'scale', 'kernel': 'rbf'},\n",
       "  {'C': 10, 'epsilon': 0.5, 'gamma': 'scale', 'kernel': 'poly'},\n",
       "  {'C': 100, 'epsilon': 0.001, 'gamma': 'auto', 'kernel': 'linear'},\n",
       "  {'C': 100, 'epsilon': 0.001, 'gamma': 'auto', 'kernel': 'rbf'},\n",
       "  {'C': 100, 'epsilon': 0.001, 'gamma': 'auto', 'kernel': 'poly'},\n",
       "  {'C': 100, 'epsilon': 0.001, 'gamma': 'scale', 'kernel': 'linear'},\n",
       "  {'C': 100, 'epsilon': 0.001, 'gamma': 'scale', 'kernel': 'rbf'},\n",
       "  {'C': 100, 'epsilon': 0.001, 'gamma': 'scale', 'kernel': 'poly'},\n",
       "  {'C': 100, 'epsilon': 0.01, 'gamma': 'auto', 'kernel': 'linear'},\n",
       "  {'C': 100, 'epsilon': 0.01, 'gamma': 'auto', 'kernel': 'rbf'},\n",
       "  {'C': 100, 'epsilon': 0.01, 'gamma': 'auto', 'kernel': 'poly'},\n",
       "  {'C': 100, 'epsilon': 0.01, 'gamma': 'scale', 'kernel': 'linear'},\n",
       "  {'C': 100, 'epsilon': 0.01, 'gamma': 'scale', 'kernel': 'rbf'},\n",
       "  {'C': 100, 'epsilon': 0.01, 'gamma': 'scale', 'kernel': 'poly'},\n",
       "  {'C': 100, 'epsilon': 0.1, 'gamma': 'auto', 'kernel': 'linear'},\n",
       "  {'C': 100, 'epsilon': 0.1, 'gamma': 'auto', 'kernel': 'rbf'},\n",
       "  {'C': 100, 'epsilon': 0.1, 'gamma': 'auto', 'kernel': 'poly'},\n",
       "  {'C': 100, 'epsilon': 0.1, 'gamma': 'scale', 'kernel': 'linear'},\n",
       "  {'C': 100, 'epsilon': 0.1, 'gamma': 'scale', 'kernel': 'rbf'},\n",
       "  {'C': 100, 'epsilon': 0.1, 'gamma': 'scale', 'kernel': 'poly'},\n",
       "  {'C': 100, 'epsilon': 0.5, 'gamma': 'auto', 'kernel': 'linear'},\n",
       "  {'C': 100, 'epsilon': 0.5, 'gamma': 'auto', 'kernel': 'rbf'},\n",
       "  {'C': 100, 'epsilon': 0.5, 'gamma': 'auto', 'kernel': 'poly'},\n",
       "  {'C': 100, 'epsilon': 0.5, 'gamma': 'scale', 'kernel': 'linear'},\n",
       "  {'C': 100, 'epsilon': 0.5, 'gamma': 'scale', 'kernel': 'rbf'},\n",
       "  {'C': 100, 'epsilon': 0.5, 'gamma': 'scale', 'kernel': 'poly'}],\n",
       " 'split0_test_score': array([-0.01227788, -0.03403026, -0.03001355, -0.01227788, -0.03403219,\n",
       "        -0.02990317, -0.01227788, -0.03403026, -0.03001355, -0.01227788,\n",
       "        -0.03403219, -0.02990317, -0.01227788, -0.03403026, -0.03001355,\n",
       "        -0.01227788, -0.03403219, -0.02990317, -0.01227788, -0.03403026,\n",
       "        -0.03001355, -0.01227788, -0.03403219, -0.02990317,  0.14117729,\n",
       "        -0.02903041, -0.01443761,  0.14117729, -0.02904957, -0.01392593,\n",
       "         0.14117729, -0.02903041, -0.01443761,  0.14117729, -0.02904957,\n",
       "        -0.01392593,  0.14117732, -0.02903041, -0.01443761,  0.14117732,\n",
       "        -0.02904957, -0.01392593,  0.14117747, -0.02903041, -0.01443761,\n",
       "         0.14117747, -0.02904957, -0.01392593,  0.50712571,  0.01049666,\n",
       "         0.084126  ,  0.50712571,  0.01035114,  0.08526603,  0.50712572,\n",
       "         0.01049665,  0.08412599,  0.50712572,  0.01035114,  0.08526604,\n",
       "         0.50712577,  0.01049664,  0.08412588,  0.50712577,  0.01035113,\n",
       "         0.08526613,  0.50712602,  0.01049659,  0.08412538,  0.50712602,\n",
       "         0.01035108,  0.08526654]),\n",
       " 'split1_test_score': array([-0.05388431, -0.07495017, -0.07439135, -0.05388431, -0.07495153,\n",
       "        -0.07436525, -0.05388431, -0.07495017, -0.07439137, -0.05388431,\n",
       "        -0.07495153, -0.07436527, -0.05388431, -0.07495017, -0.07439157,\n",
       "        -0.05388431, -0.07495153, -0.07436546, -0.05388431, -0.07495017,\n",
       "        -0.07439244, -0.05388431, -0.07495153, -0.07436634,  0.09698143,\n",
       "        -0.07198877, -0.06669076,  0.09698143, -0.07199473, -0.06667683,\n",
       "         0.09698142, -0.07198877, -0.06669078,  0.09698142, -0.07199473,\n",
       "        -0.06667685,  0.09698141, -0.07198877, -0.06669098,  0.09698141,\n",
       "        -0.07199473, -0.06667705,  0.09698132, -0.07198877, -0.06669186,\n",
       "         0.09698132, -0.07199473, -0.06667792,  0.47922304, -0.03171635,\n",
       "         0.00052934,  0.47922304, -0.03186023,  0.00182189,  0.47922305,\n",
       "        -0.03171635,  0.00052933,  0.47922305, -0.03186023,  0.00182188,\n",
       "         0.4792231 , -0.03171636,  0.00052916,  0.4792231 , -0.03186025,\n",
       "         0.0018217 ,  0.47922333, -0.03171642,  0.00052988,  0.47922333,\n",
       "        -0.0318603 ,  0.0018209 ]),\n",
       " 'split2_test_score': array([-0.01877272, -0.04031203, -0.0395649 , -0.01877272, -0.04030857,\n",
       "        -0.03963268, -0.01877272, -0.04031203, -0.0395649 , -0.01877272,\n",
       "        -0.04030857, -0.03963268, -0.01877272, -0.04031203, -0.0395649 ,\n",
       "        -0.01877272, -0.04030857, -0.03963268, -0.01877272, -0.04031203,\n",
       "        -0.0395649 , -0.01877272, -0.04030857, -0.03963268,  0.13215061,\n",
       "        -0.03614987, -0.03175986,  0.13215061, -0.03611421, -0.03222127,\n",
       "         0.13215061, -0.03614987, -0.03175985,  0.13215061, -0.03611421,\n",
       "        -0.03222125,  0.13215061, -0.03614981, -0.0317597 ,  0.13215061,\n",
       "        -0.03611415, -0.03222111,  0.13215061, -0.03614954, -0.03175906,\n",
       "         0.13215061, -0.03611388, -0.03222046,  0.5131028 ,  0.00644099,\n",
       "         0.04304892,  0.5131028 ,  0.00678179,  0.03929515,  0.5131028 ,\n",
       "         0.00644099,  0.04304893,  0.5131028 ,  0.0067818 ,  0.03929516,\n",
       "         0.51310277,  0.00644094,  0.04304906,  0.51310277,  0.00678184,\n",
       "         0.03929521,  0.51310261,  0.00644075,  0.04304963,  0.51310261,\n",
       "         0.00678204,  0.03929546]),\n",
       " 'split3_test_score': array([-0.02959412, -0.05134397, -0.04902628, -0.02959412, -0.05134568,\n",
       "        -0.04898419, -0.02959412, -0.05134399, -0.04902626, -0.02959412,\n",
       "        -0.05134569, -0.04898417, -0.02959412, -0.05134414, -0.04902611,\n",
       "        -0.02959412, -0.05134584, -0.04898402, -0.02959412, -0.05134481,\n",
       "        -0.04902544, -0.02959412, -0.05134651, -0.04898335,  0.12628059,\n",
       "        -0.04761865, -0.03623933,  0.12628059, -0.04763563, -0.03583377,\n",
       "         0.12628059, -0.04761867, -0.03623931,  0.12628059, -0.04763564,\n",
       "        -0.03583376,  0.12628059, -0.04761882, -0.03623917,  0.12628059,\n",
       "        -0.04763579, -0.03583361,  0.12628063, -0.04761949, -0.03623851,\n",
       "         0.12628063, -0.04763647, -0.03583295,  0.50961167, -0.0084281 ,\n",
       "         0.05019108,  0.50961167, -0.00859897,  0.05203499,  0.50961164,\n",
       "        -0.00842809,  0.05019109,  0.50961164, -0.00859896,  0.05203498,\n",
       "         0.50961137, -0.00842794,  0.0501912 ,  0.50961137, -0.00859887,\n",
       "         0.05203485,  0.50961016, -0.00842733,  0.05019168,  0.50961016,\n",
       "        -0.00859843,  0.05203425]),\n",
       " 'split4_test_score': array([-0.02849967, -0.04834623, -0.04565664, -0.02849967, -0.0483455 ,\n",
       "        -0.04567624, -0.02849967, -0.04834623, -0.04565665, -0.02849967,\n",
       "        -0.0483455 , -0.04567625, -0.02849967, -0.04834623, -0.0456568 ,\n",
       "        -0.02849967, -0.0483455 , -0.0456764 , -0.02849967, -0.04834623,\n",
       "        -0.04565749, -0.02849967, -0.0483455 , -0.04567709,  0.1240642 ,\n",
       "        -0.04474449, -0.03231783,  0.1240642 , -0.044735  , -0.03253625,\n",
       "         0.12406421, -0.04474448, -0.03231783,  0.12406421, -0.04473499,\n",
       "        -0.03253625,  0.12406436, -0.04474432, -0.03231783,  0.12406436,\n",
       "        -0.04473483, -0.03253625,  0.12406501, -0.04474363, -0.03231783,\n",
       "         0.12406501, -0.04473414, -0.03253625,  0.49761572, -0.00655437,\n",
       "         0.04446666,  0.49761572, -0.00647668,  0.04372165,  0.49761572,\n",
       "        -0.00655437,  0.04446666,  0.49761572, -0.00647668,  0.04372165,\n",
       "         0.49761575, -0.00655437,  0.04446666,  0.49761575, -0.00647668,\n",
       "         0.04372166,  0.4976159 , -0.00655437,  0.04446667,  0.4976159 ,\n",
       "        -0.00647668,  0.04372166]),\n",
       " 'mean_test_score': array([-0.02860574, -0.04979653, -0.04773054, -0.02860574, -0.04979669,\n",
       "        -0.0477123 , -0.02860574, -0.04979654, -0.04773055, -0.02860574,\n",
       "        -0.0497967 , -0.04771231, -0.02860574, -0.04979657, -0.04773059,\n",
       "        -0.02860574, -0.04979673, -0.04771235, -0.02860574, -0.0497967 ,\n",
       "        -0.04773076, -0.02860574, -0.04979686, -0.04771252,  0.12413082,\n",
       "        -0.04590644, -0.03628908,  0.12413082, -0.04590583, -0.03623881,\n",
       "         0.12413083, -0.04590644, -0.03628908,  0.12413083, -0.04590583,\n",
       "        -0.03623881,  0.12413086, -0.04590643, -0.03628906,  0.12413086,\n",
       "        -0.04590582, -0.03623879,  0.12413101, -0.04590637, -0.03628897,\n",
       "         0.12413101, -0.04590576, -0.0362387 ,  0.50133579, -0.00595223,\n",
       "         0.0444724 ,  0.50133579, -0.00596059,  0.04442794,  0.50133579,\n",
       "        -0.00595223,  0.0444724 ,  0.50133579, -0.00596059,  0.04442794,\n",
       "         0.50133575, -0.00595222,  0.04447239,  0.50133575, -0.00596056,\n",
       "         0.04442791,  0.5013356 , -0.00595215,  0.04447265,  0.5013356 ,\n",
       "        -0.00596046,  0.04442776]),\n",
       " 'std_test_score': array([0.01416532, 0.0139695 , 0.01481451, 0.01416532, 0.01397008,\n",
       "        0.01482288, 0.01416532, 0.0139695 , 0.01481451, 0.01416532,\n",
       "        0.01397008, 0.01482288, 0.01416532, 0.0139695 , 0.01481458,\n",
       "        0.01416532, 0.01397008, 0.01482295, 0.01416532, 0.01396952,\n",
       "        0.01481486, 0.01416532, 0.01397009, 0.01482323, 0.01480956,\n",
       "        0.01459151, 0.01695898, 0.01480956, 0.01459454, 0.01705492,\n",
       "        0.01480956, 0.01459151, 0.01695899, 0.01480956, 0.01459454,\n",
       "        0.01705493, 0.01480957, 0.01459153, 0.01695907, 0.01480957,\n",
       "        0.01459456, 0.017055  , 0.01480964, 0.01459159, 0.01695942,\n",
       "        0.01480964, 0.01459462, 0.01705535, 0.01219253, 0.01479486,\n",
       "        0.02660124, 0.01219253, 0.01487589, 0.0267123 , 0.01219252,\n",
       "        0.01479486, 0.02660124, 0.01219252, 0.01487589, 0.02671231,\n",
       "        0.01219246, 0.01479485, 0.02660127, 0.01219246, 0.01487589,\n",
       "        0.02671239, 0.0121922 , 0.01479481, 0.0266009 , 0.0121922 ,\n",
       "        0.01487592, 0.02671273]),\n",
       " 'rank_test_score': array([33, 65, 61, 33, 68, 57, 33, 66, 62, 33, 69, 58, 33, 67, 63, 33, 71,\n",
       "        59, 33, 70, 64, 33, 72, 60, 15, 56, 48, 15, 52, 44, 13, 55, 47, 13,\n",
       "        51, 43, 11, 54, 46, 11, 50, 42,  9, 53, 45,  9, 49, 41,  1, 28, 18,\n",
       "         1, 32, 21,  3, 27, 19,  3, 31, 22,  5, 26, 20,  5, 30, 23,  7, 25,\n",
       "        17,  7, 29, 24], dtype=int32)}"
      ]
     },
     "execution_count": 17,
     "metadata": {},
     "output_type": "execute_result"
    }
   ],
   "source": [
    "clf.cv_results_"
   ]
  },
  {
   "cell_type": "code",
   "execution_count": null,
   "id": "65cf9cd1",
   "metadata": {},
   "outputs": [],
   "source": []
  }
 ],
 "metadata": {
  "kernelspec": {
   "display_name": "Python 3",
   "language": "python",
   "name": "python3"
  },
  "language_info": {
   "codemirror_mode": {
    "name": "ipython",
    "version": 3
   },
   "file_extension": ".py",
   "mimetype": "text/x-python",
   "name": "python",
   "nbconvert_exporter": "python",
   "pygments_lexer": "ipython3",
   "version": "3.9.6"
  }
 },
 "nbformat": 4,
 "nbformat_minor": 5
}
